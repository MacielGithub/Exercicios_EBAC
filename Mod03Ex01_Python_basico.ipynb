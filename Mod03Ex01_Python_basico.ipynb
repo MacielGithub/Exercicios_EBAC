{
  "cells": [
    {
      "cell_type": "markdown",
      "metadata": {
        "id": "SEE0vQsW83yB"
      },
      "source": [
        "### 01 - Teste de gravidez\n",
        "Escreva uma célula com controle de fluxos que tem como premissa a existência das seguintes variáveis:\n",
        "\n",
        "- ```sexo``` como ```str``` indicando os valores '**M**' para masculino e '**F**' para feminino  \n",
        "- ```beta_hcg``` que indica a quantidade do beta-HCG no sangue em mUI/mL.\n",
        "\n",
        "A sua tarefa é escrever um código que imprima como resultado \"indivíduo do sexo masculino\" quando sexo = 'M', caso sexo = 'F', se o valor de beta-HCG for maior que 5, retorne \"Positivo\" indicando que a paciente está grávida, e retorne \"Negativo\" caso contrário.\n",
        "\n",
        "Não mexa nos valores da variável ```sexo``` nem em ```beta_hcg```, e escreva um código que funcione para quaisquer valores possíveis de ambos: ```sexo``` = '**M**' ou '**F**' e ```beta_hcg``` assumindo valores inteiros positivos."
      ]
    },
    {
      "cell_type": "code",
      "execution_count": 12,
      "metadata": {
        "id": "cTOc4LG683yE",
        "colab": {
          "base_uri": "https://localhost:8080/"
        },
        "outputId": "a2a8a0c9-9677-4737-b645-eb22097025f8"
      },
      "outputs": [
        {
          "output_type": "stream",
          "name": "stdout",
          "text": [
            "Indivíduo do sexo masculino\n"
          ]
        }
      ],
      "source": [
        "sexo = 'M'\n",
        "beta_hcg = 0\n",
        "\n",
        "# seu código vem abaixo desta linha\n",
        "\n",
        "if (sexo == 'M'):\n",
        "    print('Indivíduo do sexo masculino')\n",
        "\n",
        "elif (sexo == 'F' and beta_hcg > 5):\n",
        "    print('positivo')\n",
        "\n",
        "else:\n",
        "    print('Negativo')"
      ]
    },
    {
      "cell_type": "markdown",
      "metadata": {
        "id": "uCoIZDE383yF"
      },
      "source": [
        "### 02 - Renomeando variáveis\n",
        "\n",
        "Vamos ver adiante que uma forma de renomear variáveis de um conjunto de dados é através de dicionários - o dicionário deve conter como chave o nome original, associando a cada chave um único valor (tipo *str*) que contenha o nome novo.\n",
        "\n",
        "A sua tarefa é escrever um dicionário que possa ser utilizado para traduzir as variáveis ```name``` (nome), ```age``` (idade) e ```income``` (renda). Ou seja, esse dicionário deve relacionar as chaves *name, age* e *income* às suas respectivas traduções."
      ]
    },
    {
      "cell_type": "code",
      "execution_count": 14,
      "metadata": {
        "id": "Bh6ijpbu83yG",
        "outputId": "8707ba87-2886-40c1-bad5-f6005358ac8e",
        "colab": {
          "base_uri": "https://localhost:8080/"
        }
      },
      "outputs": [
        {
          "output_type": "execute_result",
          "data": {
            "text/plain": [
              "{'name': 'nome', 'age': 'idade', 'income': 'renda'}"
            ]
          },
          "metadata": {},
          "execution_count": 14
        }
      ],
      "source": [
        "dic_renomeacao = {'name': 'nome', 'age': 'idade', 'income': 'renda'}\n",
        "dic_renomeacao"
      ]
    },
    {
      "cell_type": "markdown",
      "metadata": {
        "id": "95zumO5g83yH"
      },
      "source": [
        "### 03 - É divisível?\n",
        "A sua tarefa é escrever um código que indique se um número ```N``` é divisível por um número P. Escreva um programa que faça essa verificação para quaisquer combinações de ```N``` e ```M``` e devolva uma mensagem indicativa no output."
      ]
    },
    {
      "cell_type": "code",
      "execution_count": 16,
      "metadata": {
        "id": "BR2zOhmN83yI",
        "colab": {
          "base_uri": "https://localhost:8080/"
        },
        "outputId": "41080b32-72b9-4b4e-eb40-ab59be55f219"
      },
      "outputs": [
        {
          "output_type": "stream",
          "name": "stdout",
          "text": [
            "Não é divisível\n"
          ]
        }
      ],
      "source": [
        "N = 42\n",
        "M = 7\n",
        "\n",
        "#Seu código\n",
        "if (N % M == 0):\n",
        "  print('É divisível')\n",
        "else:\n",
        "  print('Não é divisível')"
      ]
    },
    {
      "cell_type": "markdown",
      "metadata": {
        "id": "0d5Kdrz283yJ"
      },
      "source": [
        "### 04 - Números primos\n",
        "> Um número **N** é primo se e somente se é divisível por 1, -1, por **N** e por -**N**.  \n",
        "\n",
        "Escreva um script que verifica se ```N``` é um número primo, verificando se ```N``` é divisível por todos os números de ```1``` a ```N-1```. Você vai precisar usar alguma ferramenta de *loop* que você aprendeu para isto. No final, devolva uma mensagem no output indicando se o número é primo ou não."
      ]
    },
    {
      "cell_type": "code",
      "execution_count": 28,
      "metadata": {
        "id": "h_lFO-EO83yJ",
        "colab": {
          "base_uri": "https://localhost:8080/"
        },
        "outputId": "34e8e1b6-f70b-464b-dc51-bad4de859114"
      },
      "outputs": [
        {
          "output_type": "stream",
          "name": "stdout",
          "text": [
            "É primo\n"
          ]
        }
      ],
      "source": [
        "N = 293\n",
        "\n",
        "# seu código abaixo\n",
        "for i in range(2, N - 1):\n",
        "  if (N % i == 0):\n",
        "    print('Não é primo')\n",
        "    break\n",
        "else:\n",
        "  print('É primo')"
      ]
    },
    {
      "cell_type": "markdown",
      "metadata": {
        "id": "zHwDnURO83yK"
      },
      "source": [
        "### 05 - Desafio\n",
        "O algorítmo do exercício anterior não é o mais eficiente. O que você pode fazer para deixá-lo mais eficiente? Ou seja, executar menos comparações, portanto consumir menos tempo.\n",
        "1. Será que precisamos correr o loop até o final sempre?\n",
        "2. Será que precisamos mesmo verificar **todos** os números?\n",
        "3. Será que precisamos ir até N-1?\n",
        "\n",
        "Essas perguntas levam ao tipo de pensamento voltado a deixar um algoritmo mais eficiente. Veja se você consegue melhorar o seu."
      ]
    },
    {
      "cell_type": "code",
      "execution_count": null,
      "metadata": {
        "id": "DDdwfZOL83yM"
      },
      "outputs": [],
      "source": [
        "N = 98\n",
        "\n",
        "# seu código abaixo\n",
        "for i in range(2, N - 1):\n",
        "  if (N % i == 0):\n",
        "    print('Não é primo')\n",
        "    break\n",
        "else:\n",
        "  print('É primo')"
      ]
    },
    {
      "cell_type": "markdown",
      "metadata": {
        "id": "4zhVSQan83yN"
      },
      "source": [
        "### 06 - Peso ideal 1\n",
        "O IMC (índice de massa corpórea) é um indicador de saúde mais bem aceito que o peso. Ele é calculado como:\n",
        "\n",
        "$$ IMC = \\dfrac{peso}{altura^2}$$\n",
        "\n",
        "Segundo a OMS, valores *normais* são entre 18.5 e 24.9.\n",
        "\n",
        "Sua tarefa é encontrar o ponto médio dessa faixa."
      ]
    },
    {
      "cell_type": "code",
      "execution_count": 40,
      "metadata": {
        "id": "3DzxicN983yO",
        "outputId": "361736b1-cab0-4e7d-f737-9a01efa16eb9",
        "colab": {
          "base_uri": "https://localhost:8080/"
        }
      },
      "outputs": [
        {
          "output_type": "execute_result",
          "data": {
            "text/plain": [
              "21.7"
            ]
          },
          "metadata": {},
          "execution_count": 40
        }
      ],
      "source": [
        "imc_ideal = round((18.5 + 24.9) / 2, 2)\n",
        "\n",
        "# seu código\n",
        "imc_ideal"
      ]
    },
    {
      "cell_type": "markdown",
      "metadata": {
        "id": "Z8uBOym483yP"
      },
      "source": [
        "### 07 - Peso ideal 2\n",
        "Recebendo um valor de altura, encontre o peso '*ideal*' dessa pessoa, que fornece o IMC encontrado acima"
      ]
    },
    {
      "cell_type": "code",
      "execution_count": 37,
      "metadata": {
        "id": "rrNwycte83yP",
        "outputId": "8bdce2a4-ad71-45eb-d68b-7c223d738562",
        "colab": {
          "base_uri": "https://localhost:8080/"
        }
      },
      "outputs": [
        {
          "output_type": "stream",
          "name": "stdout",
          "text": [
            "62.71 kg\n"
          ]
        }
      ],
      "source": [
        "altura = 1.70\n",
        "\n",
        "# Seu código\n",
        "peso_ideal = round(imc_ideal * altura ** 2, 2)\n",
        "print(peso_ideal, 'kg')"
      ]
    },
    {
      "cell_type": "markdown",
      "metadata": {
        "id": "zEdM6J_i83yP"
      },
      "source": [
        "### 08 - Peso ideal 3\n",
        "Dada uma lista contendo as alturas de pacientes, crie uma nova lista que contenha o peso '*ideal*' (que fornece o IMC calculado em **Peso ideal 1**) desses pacientes."
      ]
    },
    {
      "cell_type": "code",
      "execution_count": 38,
      "metadata": {
        "id": "KN1mB_My83yQ",
        "outputId": "4d012879-ab26-4d22-83e6-333df44d3eda",
        "colab": {
          "base_uri": "https://localhost:8080/"
        }
      },
      "outputs": [
        {
          "output_type": "execute_result",
          "data": {
            "text/plain": [
              "[82.51, 91.19, 62.71, 59.08]"
            ]
          },
          "metadata": {},
          "execution_count": 38
        }
      ],
      "source": [
        "lista_alturas = [1.95, 2.05, 1.70, 1.65]\n",
        "\n",
        "lista_peso_ideal = []\n",
        "\n",
        "# seu código\n",
        "for altura in lista_alturas:\n",
        "  peso_ideal = round(imc_ideal * altura ** 2, 2)\n",
        "  lista_peso_ideal.append(peso_ideal)\n",
        "\n",
        "lista_peso_ideal"
      ]
    },
    {
      "cell_type": "markdown",
      "metadata": {
        "id": "8OKAtYQM83yQ"
      },
      "source": [
        "### 09 - Peso ideal 4\n",
        "Dada uma lista de tuplas - cada elemento da lista é uma tupla contendo altura e peso de um paciente - crie uma nova lista com o IMC desses pacientes."
      ]
    },
    {
      "cell_type": "code",
      "execution_count": 41,
      "metadata": {
        "id": "FaXgkjzI83yQ",
        "outputId": "46a424bf-8b85-4831-e99a-2816c88e4b40",
        "colab": {
          "base_uri": "https://localhost:8080/"
        }
      },
      "outputs": [
        {
          "output_type": "execute_result",
          "data": {
            "text/plain": [
              "[27.78, 27.55, 19.19]"
            ]
          },
          "metadata": {},
          "execution_count": 41
        }
      ],
      "source": [
        "altura_peso = [(1.80, 90), (1.65, 75), (1.91, 70)]\n",
        "\n",
        "imc = []\n",
        "\n",
        "# seu código\n",
        "\n",
        "for altura, peso in altura_peso:\n",
        "  imc.append(round(peso / altura ** 2, 2))\n",
        "\n",
        "imc"
      ]
    },
    {
      "cell_type": "markdown",
      "metadata": {
        "id": "kZdSJqJq83yR"
      },
      "source": [
        "### 10 - Peso ideal 5\n",
        "Dada uma lista de **listas** - cada elemento da lista é uma **lista** contendo altura e peso de um paciente, adicione mais um elemento à lista de cada paciente contendo o IMC do paciente. Verifique também se é 'baixo', 'normal' ou 'alto' segundo os padrões da OMS em que normal é entre 18.5 e 24.9.\n",
        "\n",
        "Reflexão: por que no problema anterior temos que criar uma nova lista, e não podemos adicionar os dados de cada indivíduo à tupla?"
      ]
    },
    {
      "cell_type": "code",
      "execution_count": 45,
      "metadata": {
        "id": "EwszojP283yR",
        "colab": {
          "base_uri": "https://localhost:8080/"
        },
        "outputId": "3028b356-08b8-4cfc-a7b8-2520ba01b454"
      },
      "outputs": [
        {
          "output_type": "execute_result",
          "data": {
            "text/plain": [
              "[[1.8, 90, 27.78, 'alto'],\n",
              " [1.65, 75, 27.55, 'alto'],\n",
              " [1.91, 70, 19.19, 'normal']]"
            ]
          },
          "metadata": {},
          "execution_count": 45
        }
      ],
      "source": [
        "altura_peso = [[1.80, 90], [1.65, 75], [1.91, 70]]\n",
        "\n",
        "# seu código\n",
        "\n",
        "for paciente in altura_peso: #loop chama cada uma das sublistas de 'paciente', variavel essa na qual pode-se usar .append para adicionar dados\n",
        "  imc = round(paciente[1] / paciente[0] ** 2, 2)\n",
        "  paciente.append(imc)\n",
        "\n",
        "  if (imc < 18.5):\n",
        "    paciente.append('baixo')\n",
        "  elif (imc >= 18.5 and imc <= 24.9):\n",
        "    paciente.append('normal')\n",
        "  else:\n",
        "    paciente.append('alto')\n",
        "\n",
        "altura_peso"
      ]
    }
  ],
  "metadata": {
    "colab": {
      "provenance": []
    },
    "kernelspec": {
      "display_name": "Python 3",
      "language": "python",
      "name": "python3"
    },
    "language_info": {
      "codemirror_mode": {
        "name": "ipython",
        "version": 3
      },
      "file_extension": ".py",
      "mimetype": "text/x-python",
      "name": "python",
      "nbconvert_exporter": "python",
      "pygments_lexer": "ipython3",
      "version": "3.8.5"
    }
  },
  "nbformat": 4,
  "nbformat_minor": 0
}