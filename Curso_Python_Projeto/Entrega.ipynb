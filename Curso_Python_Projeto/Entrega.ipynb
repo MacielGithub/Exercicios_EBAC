{
 "cells": [
  {
   "cell_type": "markdown",
   "id": "6f171895",
   "metadata": {
    "papermill": {
     "duration": 0.012354,
     "end_time": "2024-06-06T20:09:38.656452",
     "exception": false,
     "start_time": "2024-06-06T20:09:38.644098",
     "status": "completed"
    },
    "tags": []
   },
   "source": [
    "# **Projeto de Estudos - Python Para Análise de Dados**"
   ]
  },
  {
   "cell_type": "markdown",
   "id": "c3c641ef",
   "metadata": {
    "papermill": {
     "duration": 0.01149,
     "end_time": "2024-06-06T20:09:38.679999",
     "exception": false,
     "start_time": "2024-06-06T20:09:38.668509",
     "status": "completed"
    },
    "tags": []
   },
   "source": [
    "# 01 - Introdução"
   ]
  },
  {
   "cell_type": "markdown",
   "id": "35ae5403",
   "metadata": {
    "papermill": {
     "duration": 0.011907,
     "end_time": "2024-06-06T20:09:38.703724",
     "exception": false,
     "start_time": "2024-06-06T20:09:38.691817",
     "status": "completed"
    },
    "tags": []
   },
   "source": [
    "Olá! :D\n",
    "\n",
    "Meu nome é Felipe Maciel e este é meu primeiro notebook no Kaggle.\n",
    "\n",
    "Neste documento, irei demonstrar como acompanhei o desenvolvimento do projeto de conclusão do módulo 'Python Para Análise de Dados', do curso 'Cientista de Dados' da EBAC, a partir do material fornecido, criando meu storytelling e estudando as linhas de código."
   ]
  },
  {
   "cell_type": "markdown",
   "id": "efbdb6d1",
   "metadata": {
    "papermill": {
     "duration": 0.011348,
     "end_time": "2024-06-06T20:09:38.726959",
     "exception": false,
     "start_time": "2024-06-06T20:09:38.715611",
     "status": "completed"
    },
    "tags": []
   },
   "source": [
    "# 02 - Descrição do Problema"
   ]
  },
  {
   "cell_type": "markdown",
   "id": "6369fabc",
   "metadata": {
    "papermill": {
     "duration": 0.011407,
     "end_time": "2024-06-06T20:09:38.750347",
     "exception": false,
     "start_time": "2024-06-06T20:09:38.738940",
     "status": "completed"
    },
    "tags": []
   },
   "source": [
    "A base de dados apresentada contém dados referentes a clientes de uma instituição bancária. O objetivo desse projeto é importar, tratar, filtrar e criar visualizações da base de dados, de tal forma que seja possível captar *insights* referentes ao estado de adimplência dos clientes, para identificar quais parâmetros estão atrelados à essa condição e qual perfil de cliente está mais propenso a ficar inadimplente no futuro.\n",
    "\n",
    "Primeiramente, analisando a base de dados anexada a esse notebook, sabe-se que essa base contém índice (ID), status de inadimplência (default), idade, sexo, dependentes, escolaridade, estado_civil e entre outros dados de cada um dos clientes, com base nos quais podemos criar visualizações e identificar possíveis correlações."
   ]
  },
  {
   "cell_type": "markdown",
   "id": "ea7bfd7e",
   "metadata": {
    "papermill": {
     "duration": 0.011924,
     "end_time": "2024-06-06T20:09:38.774181",
     "exception": false,
     "start_time": "2024-06-06T20:09:38.762257",
     "status": "completed"
    },
    "tags": []
   },
   "source": [
    "# 03 - Importação das Bibliotecas"
   ]
  },
  {
   "cell_type": "code",
   "execution_count": 1,
   "id": "93cf1eae",
   "metadata": {
    "execution": {
     "iopub.execute_input": "2024-06-06T20:09:38.799893Z",
     "iopub.status.busy": "2024-06-06T20:09:38.799465Z",
     "iopub.status.idle": "2024-06-06T20:09:41.651094Z",
     "shell.execute_reply": "2024-06-06T20:09:41.649549Z"
    },
    "papermill": {
     "duration": 2.868155,
     "end_time": "2024-06-06T20:09:41.654160",
     "exception": false,
     "start_time": "2024-06-06T20:09:38.786005",
     "status": "completed"
    },
    "tags": []
   },
   "outputs": [],
   "source": [
    "#Biblioteca Pandas, que contém as ferramentas necessárias para manipular dataframes\n",
    "import pandas as pd\n",
    "\n",
    "#Bibliotecas seaborn e matplotlib para fazer a plotagem dos gráficos\n",
    "import seaborn as sns\n",
    "import matplotlib.pyplot as plt"
   ]
  },
  {
   "cell_type": "markdown",
   "id": "06158861",
   "metadata": {
    "papermill": {
     "duration": 0.012108,
     "end_time": "2024-06-06T20:09:41.678397",
     "exception": false,
     "start_time": "2024-06-06T20:09:41.666289",
     "status": "completed"
    },
    "tags": []
   },
   "source": [
    "# 04 - Carregamento da Base de Dados"
   ]
  },
  {
   "cell_type": "markdown",
   "id": "c0812e76",
   "metadata": {
    "papermill": {
     "duration": 0.011963,
     "end_time": "2024-06-06T20:09:41.703085",
     "exception": false,
     "start_time": "2024-06-06T20:09:41.691122",
     "status": "completed"
    },
    "tags": []
   },
   "source": [
    "Declaração de uma variável contendo o dataframe com os dados do arquivo CSV."
   ]
  },
  {
   "cell_type": "code",
   "execution_count": 2,
   "id": "948998a8",
   "metadata": {
    "execution": {
     "iopub.execute_input": "2024-06-06T20:09:41.729899Z",
     "iopub.status.busy": "2024-06-06T20:09:41.729317Z",
     "iopub.status.idle": "2024-06-06T20:09:41.789267Z",
     "shell.execute_reply": "2024-06-06T20:09:41.787961Z"
    },
    "papermill": {
     "duration": 0.076421,
     "end_time": "2024-06-06T20:09:41.792233",
     "exception": false,
     "start_time": "2024-06-06T20:09:41.715812",
     "status": "completed"
    },
    "tags": []
   },
   "outputs": [],
   "source": [
    "#dataframe contendo os dados extraídos da base\n",
    "df = pd.read_csv('/kaggle/input/sampledata/10e.csv', na_values = 'na')"
   ]
  },
  {
   "cell_type": "markdown",
   "id": "25a9f81c",
   "metadata": {
    "papermill": {
     "duration": 0.011364,
     "end_time": "2024-06-06T20:09:41.815618",
     "exception": false,
     "start_time": "2024-06-06T20:09:41.804254",
     "status": "completed"
    },
    "tags": []
   },
   "source": [
    "# 05 - Exploração"
   ]
  },
  {
   "cell_type": "markdown",
   "id": "864eb57a",
   "metadata": {
    "papermill": {
     "duration": 0.011495,
     "end_time": "2024-06-06T20:09:41.839093",
     "exception": false,
     "start_time": "2024-06-06T20:09:41.827598",
     "status": "completed"
    },
    "tags": []
   },
   "source": [
    "Nessa etapa, vamos observar nosso dataframe para encontrar possíveis caminhos a se tomar."
   ]
  },
  {
   "cell_type": "code",
   "execution_count": 3,
   "id": "df3961ea",
   "metadata": {
    "execution": {
     "iopub.execute_input": "2024-06-06T20:09:41.865398Z",
     "iopub.status.busy": "2024-06-06T20:09:41.864973Z",
     "iopub.status.idle": "2024-06-06T20:09:41.897812Z",
     "shell.execute_reply": "2024-06-06T20:09:41.896502Z"
    },
    "papermill": {
     "duration": 0.048863,
     "end_time": "2024-06-06T20:09:41.900314",
     "exception": false,
     "start_time": "2024-06-06T20:09:41.851451",
     "status": "completed"
    },
    "tags": []
   },
   "outputs": [
    {
     "data": {
      "text/html": [
       "<div>\n",
       "<style scoped>\n",
       "    .dataframe tbody tr th:only-of-type {\n",
       "        vertical-align: middle;\n",
       "    }\n",
       "\n",
       "    .dataframe tbody tr th {\n",
       "        vertical-align: top;\n",
       "    }\n",
       "\n",
       "    .dataframe thead th {\n",
       "        text-align: right;\n",
       "    }\n",
       "</style>\n",
       "<table border=\"1\" class=\"dataframe\">\n",
       "  <thead>\n",
       "    <tr style=\"text-align: right;\">\n",
       "      <th></th>\n",
       "      <th>id</th>\n",
       "      <th>default</th>\n",
       "      <th>idade</th>\n",
       "      <th>sexo</th>\n",
       "      <th>dependentes</th>\n",
       "      <th>escolaridade</th>\n",
       "      <th>estado_civil</th>\n",
       "      <th>salario_anual</th>\n",
       "      <th>tipo_cartao</th>\n",
       "      <th>meses_de_relacionamento</th>\n",
       "      <th>qtd_produtos</th>\n",
       "      <th>iteracoes_12m</th>\n",
       "      <th>meses_inativo_12m</th>\n",
       "      <th>limite_credito</th>\n",
       "      <th>valor_transacoes_12m</th>\n",
       "      <th>qtd_transacoes_12m</th>\n",
       "    </tr>\n",
       "  </thead>\n",
       "  <tbody>\n",
       "    <tr>\n",
       "      <th>0</th>\n",
       "      <td>768805383</td>\n",
       "      <td>0</td>\n",
       "      <td>45</td>\n",
       "      <td>M</td>\n",
       "      <td>3</td>\n",
       "      <td>ensino medio</td>\n",
       "      <td>casado</td>\n",
       "      <td>$60K - $80K</td>\n",
       "      <td>blue</td>\n",
       "      <td>39</td>\n",
       "      <td>5</td>\n",
       "      <td>3</td>\n",
       "      <td>1</td>\n",
       "      <td>12.691,51</td>\n",
       "      <td>1.144,90</td>\n",
       "      <td>42</td>\n",
       "    </tr>\n",
       "    <tr>\n",
       "      <th>1</th>\n",
       "      <td>818770008</td>\n",
       "      <td>0</td>\n",
       "      <td>49</td>\n",
       "      <td>F</td>\n",
       "      <td>5</td>\n",
       "      <td>mestrado</td>\n",
       "      <td>solteiro</td>\n",
       "      <td>menos que $40K</td>\n",
       "      <td>blue</td>\n",
       "      <td>44</td>\n",
       "      <td>6</td>\n",
       "      <td>2</td>\n",
       "      <td>1</td>\n",
       "      <td>8.256,96</td>\n",
       "      <td>1.291,45</td>\n",
       "      <td>33</td>\n",
       "    </tr>\n",
       "    <tr>\n",
       "      <th>2</th>\n",
       "      <td>713982108</td>\n",
       "      <td>0</td>\n",
       "      <td>51</td>\n",
       "      <td>M</td>\n",
       "      <td>3</td>\n",
       "      <td>mestrado</td>\n",
       "      <td>casado</td>\n",
       "      <td>$80K - $120K</td>\n",
       "      <td>blue</td>\n",
       "      <td>36</td>\n",
       "      <td>4</td>\n",
       "      <td>0</td>\n",
       "      <td>1</td>\n",
       "      <td>3.418,56</td>\n",
       "      <td>1.887,72</td>\n",
       "      <td>20</td>\n",
       "    </tr>\n",
       "    <tr>\n",
       "      <th>3</th>\n",
       "      <td>769911858</td>\n",
       "      <td>0</td>\n",
       "      <td>40</td>\n",
       "      <td>F</td>\n",
       "      <td>4</td>\n",
       "      <td>ensino medio</td>\n",
       "      <td>NaN</td>\n",
       "      <td>menos que $40K</td>\n",
       "      <td>blue</td>\n",
       "      <td>34</td>\n",
       "      <td>3</td>\n",
       "      <td>1</td>\n",
       "      <td>4</td>\n",
       "      <td>3.313,03</td>\n",
       "      <td>1.171,56</td>\n",
       "      <td>20</td>\n",
       "    </tr>\n",
       "    <tr>\n",
       "      <th>4</th>\n",
       "      <td>709106358</td>\n",
       "      <td>0</td>\n",
       "      <td>40</td>\n",
       "      <td>M</td>\n",
       "      <td>3</td>\n",
       "      <td>sem educacao formal</td>\n",
       "      <td>casado</td>\n",
       "      <td>$60K - $80K</td>\n",
       "      <td>blue</td>\n",
       "      <td>21</td>\n",
       "      <td>5</td>\n",
       "      <td>0</td>\n",
       "      <td>1</td>\n",
       "      <td>4.716,22</td>\n",
       "      <td>816,08</td>\n",
       "      <td>28</td>\n",
       "    </tr>\n",
       "  </tbody>\n",
       "</table>\n",
       "</div>"
      ],
      "text/plain": [
       "          id  default  idade sexo  dependentes         escolaridade  \\\n",
       "0  768805383        0     45    M            3         ensino medio   \n",
       "1  818770008        0     49    F            5             mestrado   \n",
       "2  713982108        0     51    M            3             mestrado   \n",
       "3  769911858        0     40    F            4         ensino medio   \n",
       "4  709106358        0     40    M            3  sem educacao formal   \n",
       "\n",
       "  estado_civil   salario_anual tipo_cartao  meses_de_relacionamento  \\\n",
       "0       casado     $60K - $80K        blue                       39   \n",
       "1     solteiro  menos que $40K        blue                       44   \n",
       "2       casado    $80K - $120K        blue                       36   \n",
       "3          NaN  menos que $40K        blue                       34   \n",
       "4       casado     $60K - $80K        blue                       21   \n",
       "\n",
       "   qtd_produtos  iteracoes_12m  meses_inativo_12m limite_credito  \\\n",
       "0             5              3                  1      12.691,51   \n",
       "1             6              2                  1       8.256,96   \n",
       "2             4              0                  1       3.418,56   \n",
       "3             3              1                  4       3.313,03   \n",
       "4             5              0                  1       4.716,22   \n",
       "\n",
       "  valor_transacoes_12m  qtd_transacoes_12m  \n",
       "0             1.144,90                  42  \n",
       "1             1.291,45                  33  \n",
       "2             1.887,72                  20  \n",
       "3             1.171,56                  20  \n",
       "4               816,08                  28  "
      ]
     },
     "execution_count": 3,
     "metadata": {},
     "output_type": "execute_result"
    }
   ],
   "source": [
    "#breve visualização dos dados\n",
    "df.head(n = 5)"
   ]
  },
  {
   "cell_type": "markdown",
   "id": "5a0c9f0b",
   "metadata": {
    "papermill": {
     "duration": 0.011901,
     "end_time": "2024-06-06T20:09:41.924629",
     "exception": false,
     "start_time": "2024-06-06T20:09:41.912728",
     "status": "completed"
    },
    "tags": []
   },
   "source": [
    "Como demonstrado nos exemplos em aula, podemos extrair algumas métricas para termos uma visão geral antes de criar as representações. Um exemplo é visualizar a quantidade total de clientes, clientes adimplentes (default = 0) e inadimplentes (default = 1).\n",
    "\n",
    "Vamos armazenar essas 3 métricas em variáveis para determinar a proporção entre elas."
   ]
  },
  {
   "cell_type": "code",
   "execution_count": 4,
   "id": "a7c81b9d",
   "metadata": {
    "execution": {
     "iopub.execute_input": "2024-06-06T20:09:41.952162Z",
     "iopub.status.busy": "2024-06-06T20:09:41.951721Z",
     "iopub.status.idle": "2024-06-06T20:09:41.967964Z",
     "shell.execute_reply": "2024-06-06T20:09:41.966463Z"
    },
    "papermill": {
     "duration": 0.033891,
     "end_time": "2024-06-06T20:09:41.971332",
     "exception": false,
     "start_time": "2024-06-06T20:09:41.937441",
     "status": "completed"
    },
    "tags": []
   },
   "outputs": [
    {
     "name": "stdout",
     "output_type": "stream",
     "text": [
      "A proporcão clientes adimplentes é de 83.93%\n",
      "A proporcão clientes inadimplentes é de 16.07%\n"
     ]
    }
   ],
   "source": [
    "qtd_total, _ = df.shape\n",
    "qtd_adimplentes, _ = df[df['default'] == 0].shape\n",
    "qtd_inadimplentes, _ = df[df['default'] == 1].shape\n",
    "\n",
    "#proporção\n",
    "print(f'A proporcão clientes adimplentes é de {round(100 * qtd_adimplentes / qtd_total, 2)}%')\n",
    "print(f'A proporcão clientes inadimplentes é de {round(100 * qtd_inadimplentes / qtd_total, 2)}%')"
   ]
  },
  {
   "cell_type": "markdown",
   "id": "0aa9a944",
   "metadata": {
    "papermill": {
     "duration": 0.012266,
     "end_time": "2024-06-06T20:09:41.996252",
     "exception": false,
     "start_time": "2024-06-06T20:09:41.983986",
     "status": "completed"
    },
    "tags": []
   },
   "source": [
    "Podemos também usar comandos para ter uma vista geral dos dados de forma resumida. Primeiramente, conhecendo os tipos de campos em cada coluna, e em seguida utilizando o comando .describe()."
   ]
  },
  {
   "cell_type": "code",
   "execution_count": 5,
   "id": "3e1787b9",
   "metadata": {
    "execution": {
     "iopub.execute_input": "2024-06-06T20:09:42.023671Z",
     "iopub.status.busy": "2024-06-06T20:09:42.023173Z",
     "iopub.status.idle": "2024-06-06T20:09:42.033122Z",
     "shell.execute_reply": "2024-06-06T20:09:42.031936Z"
    },
    "papermill": {
     "duration": 0.026714,
     "end_time": "2024-06-06T20:09:42.036109",
     "exception": false,
     "start_time": "2024-06-06T20:09:42.009395",
     "status": "completed"
    },
    "tags": []
   },
   "outputs": [
    {
     "data": {
      "text/plain": [
       "id                          int64\n",
       "default                     int64\n",
       "idade                       int64\n",
       "sexo                       object\n",
       "dependentes                 int64\n",
       "escolaridade               object\n",
       "estado_civil               object\n",
       "salario_anual              object\n",
       "tipo_cartao                object\n",
       "meses_de_relacionamento     int64\n",
       "qtd_produtos                int64\n",
       "iteracoes_12m               int64\n",
       "meses_inativo_12m           int64\n",
       "limite_credito             object\n",
       "valor_transacoes_12m       object\n",
       "qtd_transacoes_12m          int64\n",
       "dtype: object"
      ]
     },
     "execution_count": 5,
     "metadata": {},
     "output_type": "execute_result"
    }
   ],
   "source": [
    "#tipos de dados\n",
    "df.dtypes"
   ]
  },
  {
   "cell_type": "code",
   "execution_count": 6,
   "id": "c0c83588",
   "metadata": {
    "execution": {
     "iopub.execute_input": "2024-06-06T20:09:42.063689Z",
     "iopub.status.busy": "2024-06-06T20:09:42.063260Z",
     "iopub.status.idle": "2024-06-06T20:09:42.128682Z",
     "shell.execute_reply": "2024-06-06T20:09:42.126905Z"
    },
    "papermill": {
     "duration": 0.082538,
     "end_time": "2024-06-06T20:09:42.131536",
     "exception": false,
     "start_time": "2024-06-06T20:09:42.048998",
     "status": "completed"
    },
    "tags": []
   },
   "outputs": [
    {
     "data": {
      "text/html": [
       "<div>\n",
       "<style scoped>\n",
       "    .dataframe tbody tr th:only-of-type {\n",
       "        vertical-align: middle;\n",
       "    }\n",
       "\n",
       "    .dataframe tbody tr th {\n",
       "        vertical-align: top;\n",
       "    }\n",
       "\n",
       "    .dataframe thead th {\n",
       "        text-align: right;\n",
       "    }\n",
       "</style>\n",
       "<table border=\"1\" class=\"dataframe\">\n",
       "  <thead>\n",
       "    <tr style=\"text-align: right;\">\n",
       "      <th></th>\n",
       "      <th>count</th>\n",
       "      <th>unique</th>\n",
       "      <th>top</th>\n",
       "      <th>freq</th>\n",
       "    </tr>\n",
       "  </thead>\n",
       "  <tbody>\n",
       "    <tr>\n",
       "      <th>sexo</th>\n",
       "      <td>10127</td>\n",
       "      <td>2</td>\n",
       "      <td>F</td>\n",
       "      <td>5358</td>\n",
       "    </tr>\n",
       "    <tr>\n",
       "      <th>escolaridade</th>\n",
       "      <td>8608</td>\n",
       "      <td>5</td>\n",
       "      <td>mestrado</td>\n",
       "      <td>3128</td>\n",
       "    </tr>\n",
       "    <tr>\n",
       "      <th>estado_civil</th>\n",
       "      <td>9378</td>\n",
       "      <td>3</td>\n",
       "      <td>casado</td>\n",
       "      <td>4687</td>\n",
       "    </tr>\n",
       "    <tr>\n",
       "      <th>salario_anual</th>\n",
       "      <td>9015</td>\n",
       "      <td>5</td>\n",
       "      <td>menos que $40K</td>\n",
       "      <td>3561</td>\n",
       "    </tr>\n",
       "    <tr>\n",
       "      <th>tipo_cartao</th>\n",
       "      <td>10127</td>\n",
       "      <td>4</td>\n",
       "      <td>blue</td>\n",
       "      <td>9436</td>\n",
       "    </tr>\n",
       "    <tr>\n",
       "      <th>limite_credito</th>\n",
       "      <td>10127</td>\n",
       "      <td>9272</td>\n",
       "      <td>1.438,21</td>\n",
       "      <td>11</td>\n",
       "    </tr>\n",
       "    <tr>\n",
       "      <th>valor_transacoes_12m</th>\n",
       "      <td>10127</td>\n",
       "      <td>10035</td>\n",
       "      <td>3.851,51</td>\n",
       "      <td>3</td>\n",
       "    </tr>\n",
       "  </tbody>\n",
       "</table>\n",
       "</div>"
      ],
      "text/plain": [
       "                      count unique             top  freq\n",
       "sexo                  10127      2               F  5358\n",
       "escolaridade           8608      5        mestrado  3128\n",
       "estado_civil           9378      3          casado  4687\n",
       "salario_anual          9015      5  menos que $40K  3561\n",
       "tipo_cartao           10127      4            blue  9436\n",
       "limite_credito        10127   9272        1.438,21    11\n",
       "valor_transacoes_12m  10127  10035        3.851,51     3"
      ]
     },
     "execution_count": 6,
     "metadata": {},
     "output_type": "execute_result"
    }
   ],
   "source": [
    "#visão geral dos atributos 'string' (object)\n",
    "df.select_dtypes('object').describe().transpose()"
   ]
  },
  {
   "cell_type": "code",
   "execution_count": 7,
   "id": "57764d40",
   "metadata": {
    "execution": {
     "iopub.execute_input": "2024-06-06T20:09:42.160928Z",
     "iopub.status.busy": "2024-06-06T20:09:42.160380Z",
     "iopub.status.idle": "2024-06-06T20:09:42.213138Z",
     "shell.execute_reply": "2024-06-06T20:09:42.211855Z"
    },
    "papermill": {
     "duration": 0.070668,
     "end_time": "2024-06-06T20:09:42.215975",
     "exception": false,
     "start_time": "2024-06-06T20:09:42.145307",
     "status": "completed"
    },
    "tags": []
   },
   "outputs": [
    {
     "data": {
      "text/html": [
       "<div>\n",
       "<style scoped>\n",
       "    .dataframe tbody tr th:only-of-type {\n",
       "        vertical-align: middle;\n",
       "    }\n",
       "\n",
       "    .dataframe tbody tr th {\n",
       "        vertical-align: top;\n",
       "    }\n",
       "\n",
       "    .dataframe thead th {\n",
       "        text-align: right;\n",
       "    }\n",
       "</style>\n",
       "<table border=\"1\" class=\"dataframe\">\n",
       "  <thead>\n",
       "    <tr style=\"text-align: right;\">\n",
       "      <th></th>\n",
       "      <th>count</th>\n",
       "      <th>mean</th>\n",
       "      <th>std</th>\n",
       "      <th>min</th>\n",
       "      <th>25%</th>\n",
       "      <th>50%</th>\n",
       "      <th>75%</th>\n",
       "      <th>max</th>\n",
       "    </tr>\n",
       "  </thead>\n",
       "  <tbody>\n",
       "    <tr>\n",
       "      <th>default</th>\n",
       "      <td>10127.0</td>\n",
       "      <td>0.160660</td>\n",
       "      <td>0.367235</td>\n",
       "      <td>0.0</td>\n",
       "      <td>0.0</td>\n",
       "      <td>0.0</td>\n",
       "      <td>0.0</td>\n",
       "      <td>1.0</td>\n",
       "    </tr>\n",
       "    <tr>\n",
       "      <th>idade</th>\n",
       "      <td>10127.0</td>\n",
       "      <td>46.325960</td>\n",
       "      <td>8.016814</td>\n",
       "      <td>26.0</td>\n",
       "      <td>41.0</td>\n",
       "      <td>46.0</td>\n",
       "      <td>52.0</td>\n",
       "      <td>73.0</td>\n",
       "    </tr>\n",
       "    <tr>\n",
       "      <th>dependentes</th>\n",
       "      <td>10127.0</td>\n",
       "      <td>2.346203</td>\n",
       "      <td>1.298908</td>\n",
       "      <td>0.0</td>\n",
       "      <td>1.0</td>\n",
       "      <td>2.0</td>\n",
       "      <td>3.0</td>\n",
       "      <td>5.0</td>\n",
       "    </tr>\n",
       "    <tr>\n",
       "      <th>meses_de_relacionamento</th>\n",
       "      <td>10127.0</td>\n",
       "      <td>35.928409</td>\n",
       "      <td>7.986416</td>\n",
       "      <td>13.0</td>\n",
       "      <td>31.0</td>\n",
       "      <td>36.0</td>\n",
       "      <td>40.0</td>\n",
       "      <td>56.0</td>\n",
       "    </tr>\n",
       "    <tr>\n",
       "      <th>qtd_produtos</th>\n",
       "      <td>10127.0</td>\n",
       "      <td>3.812580</td>\n",
       "      <td>1.554408</td>\n",
       "      <td>1.0</td>\n",
       "      <td>3.0</td>\n",
       "      <td>4.0</td>\n",
       "      <td>5.0</td>\n",
       "      <td>6.0</td>\n",
       "    </tr>\n",
       "    <tr>\n",
       "      <th>iteracoes_12m</th>\n",
       "      <td>10127.0</td>\n",
       "      <td>2.455317</td>\n",
       "      <td>1.106225</td>\n",
       "      <td>0.0</td>\n",
       "      <td>2.0</td>\n",
       "      <td>2.0</td>\n",
       "      <td>3.0</td>\n",
       "      <td>6.0</td>\n",
       "    </tr>\n",
       "    <tr>\n",
       "      <th>meses_inativo_12m</th>\n",
       "      <td>10127.0</td>\n",
       "      <td>2.341167</td>\n",
       "      <td>1.010622</td>\n",
       "      <td>0.0</td>\n",
       "      <td>2.0</td>\n",
       "      <td>2.0</td>\n",
       "      <td>3.0</td>\n",
       "      <td>6.0</td>\n",
       "    </tr>\n",
       "    <tr>\n",
       "      <th>qtd_transacoes_12m</th>\n",
       "      <td>10127.0</td>\n",
       "      <td>64.858695</td>\n",
       "      <td>23.472570</td>\n",
       "      <td>10.0</td>\n",
       "      <td>45.0</td>\n",
       "      <td>67.0</td>\n",
       "      <td>81.0</td>\n",
       "      <td>139.0</td>\n",
       "    </tr>\n",
       "  </tbody>\n",
       "</table>\n",
       "</div>"
      ],
      "text/plain": [
       "                           count       mean        std   min   25%   50%  \\\n",
       "default                  10127.0   0.160660   0.367235   0.0   0.0   0.0   \n",
       "idade                    10127.0  46.325960   8.016814  26.0  41.0  46.0   \n",
       "dependentes              10127.0   2.346203   1.298908   0.0   1.0   2.0   \n",
       "meses_de_relacionamento  10127.0  35.928409   7.986416  13.0  31.0  36.0   \n",
       "qtd_produtos             10127.0   3.812580   1.554408   1.0   3.0   4.0   \n",
       "iteracoes_12m            10127.0   2.455317   1.106225   0.0   2.0   2.0   \n",
       "meses_inativo_12m        10127.0   2.341167   1.010622   0.0   2.0   2.0   \n",
       "qtd_transacoes_12m       10127.0  64.858695  23.472570  10.0  45.0  67.0   \n",
       "\n",
       "                          75%    max  \n",
       "default                   0.0    1.0  \n",
       "idade                    52.0   73.0  \n",
       "dependentes               3.0    5.0  \n",
       "meses_de_relacionamento  40.0   56.0  \n",
       "qtd_produtos              5.0    6.0  \n",
       "iteracoes_12m             3.0    6.0  \n",
       "meses_inativo_12m         3.0    6.0  \n",
       "qtd_transacoes_12m       81.0  139.0  "
      ]
     },
     "execution_count": 7,
     "metadata": {},
     "output_type": "execute_result"
    }
   ],
   "source": [
    "#visão geral dos atributos numéricos (number)\n",
    "df.drop('id', axis=1).select_dtypes('number').describe().transpose()"
   ]
  },
  {
   "cell_type": "markdown",
   "id": "78cd53e3",
   "metadata": {
    "papermill": {
     "duration": 0.01311,
     "end_time": "2024-06-06T20:09:42.242725",
     "exception": false,
     "start_time": "2024-06-06T20:09:42.229615",
     "status": "completed"
    },
    "tags": []
   },
   "source": [
    "Nos exemplos também foi abordado a existência de dados em vazio. Nessa porção iremos analisar colunas onde isso se aplica."
   ]
  },
  {
   "cell_type": "code",
   "execution_count": 8,
   "id": "074a402d",
   "metadata": {
    "execution": {
     "iopub.execute_input": "2024-06-06T20:09:42.271670Z",
     "iopub.status.busy": "2024-06-06T20:09:42.271285Z",
     "iopub.status.idle": "2024-06-06T20:09:42.289220Z",
     "shell.execute_reply": "2024-06-06T20:09:42.287898Z"
    },
    "papermill": {
     "duration": 0.035742,
     "end_time": "2024-06-06T20:09:42.292235",
     "exception": false,
     "start_time": "2024-06-06T20:09:42.256493",
     "status": "completed"
    },
    "tags": []
   },
   "outputs": [
    {
     "data": {
      "text/plain": [
       "id                         False\n",
       "default                    False\n",
       "idade                      False\n",
       "sexo                       False\n",
       "dependentes                False\n",
       "escolaridade                True\n",
       "estado_civil                True\n",
       "salario_anual               True\n",
       "tipo_cartao                False\n",
       "meses_de_relacionamento    False\n",
       "qtd_produtos               False\n",
       "iteracoes_12m              False\n",
       "meses_inativo_12m          False\n",
       "limite_credito             False\n",
       "valor_transacoes_12m       False\n",
       "qtd_transacoes_12m         False\n",
       "dtype: bool"
      ]
     },
     "execution_count": 8,
     "metadata": {},
     "output_type": "execute_result"
    }
   ],
   "source": [
    "df.isna().any() #verifica em cada coluna se existem dados faltantes (True)"
   ]
  },
  {
   "cell_type": "code",
   "execution_count": 9,
   "id": "dedbc603",
   "metadata": {
    "execution": {
     "iopub.execute_input": "2024-06-06T20:09:42.322742Z",
     "iopub.status.busy": "2024-06-06T20:09:42.322279Z",
     "iopub.status.idle": "2024-06-06T20:09:42.331089Z",
     "shell.execute_reply": "2024-06-06T20:09:42.329669Z"
    },
    "papermill": {
     "duration": 0.027172,
     "end_time": "2024-06-06T20:09:42.333997",
     "exception": false,
     "start_time": "2024-06-06T20:09:42.306825",
     "status": "completed"
    },
    "tags": []
   },
   "outputs": [],
   "source": [
    "def stats_dados_faltantes(df: pd.DataFrame) -> None: #sem retorno, apenas print\n",
    "\n",
    "  stats_dados_faltantes = [] #declara variável como lista\n",
    "  for col in df.columns: #verificar coluna por coluna\n",
    "    if df[col].isna().any(): #se houver dados faltantes, faça:\n",
    "      qtd, _ = df[df[col].isna()].shape #identifica o número de dados faltantes\n",
    "      total, _ = df.shape #armazena esse valor\n",
    "      dict_dados_faltantes = {col: {'quantidade': qtd, 'porcentagem': round(100 * qtd/total, 2)}} #proporção\n",
    "      stats_dados_faltantes.append(dict_dados_faltantes) #adiciona na lista\n",
    "\n",
    "  for stat in stats_dados_faltantes: #print da lista\n",
    "    print(stat)"
   ]
  },
  {
   "cell_type": "markdown",
   "id": "58de04a1",
   "metadata": {
    "papermill": {
     "duration": 0.013646,
     "end_time": "2024-06-06T20:09:42.361805",
     "exception": false,
     "start_time": "2024-06-06T20:09:42.348159",
     "status": "completed"
    },
    "tags": []
   },
   "source": [
    "Criada essa função, podemos aplicar filtros e obter outros dataframes mais filtrados. Como por exemplo:"
   ]
  },
  {
   "cell_type": "code",
   "execution_count": 10,
   "id": "dd97dbe7",
   "metadata": {
    "execution": {
     "iopub.execute_input": "2024-06-06T20:09:42.391717Z",
     "iopub.status.busy": "2024-06-06T20:09:42.391297Z",
     "iopub.status.idle": "2024-06-06T20:09:42.415020Z",
     "shell.execute_reply": "2024-06-06T20:09:42.413294Z"
    },
    "papermill": {
     "duration": 0.04192,
     "end_time": "2024-06-06T20:09:42.417968",
     "exception": false,
     "start_time": "2024-06-06T20:09:42.376048",
     "status": "completed"
    },
    "tags": []
   },
   "outputs": [
    {
     "name": "stdout",
     "output_type": "stream",
     "text": [
      "{'escolaridade': {'quantidade': 1263, 'porcentagem': 14.86}}\n",
      "{'estado_civil': {'quantidade': 620, 'porcentagem': 7.29}}\n",
      "{'salario_anual': {'quantidade': 925, 'porcentagem': 10.88}}\n"
     ]
    }
   ],
   "source": [
    "#dados faltantes de clientes adimplentes\n",
    "stats_dados_faltantes(df = df[df['default'] == 0])"
   ]
  },
  {
   "cell_type": "markdown",
   "id": "03fd72d5",
   "metadata": {
    "papermill": {
     "duration": 0.014218,
     "end_time": "2024-06-06T20:09:42.446463",
     "exception": false,
     "start_time": "2024-06-06T20:09:42.432245",
     "status": "completed"
    },
    "tags": []
   },
   "source": [
    "# 06 - Limpeza e Transformação"
   ]
  },
  {
   "cell_type": "markdown",
   "id": "57f6729b",
   "metadata": {
    "papermill": {
     "duration": 0.013704,
     "end_time": "2024-06-06T20:09:42.474889",
     "exception": false,
     "start_time": "2024-06-06T20:09:42.461185",
     "status": "completed"
    },
    "tags": []
   },
   "source": [
    "Quando identificamos os tipos de dado de cada coluna com df.dtypes, verificamos que algumas colunas que deviam conter números ('int64'), na verdade estão representadas como strings ('object'), o que pode causar impedimentos quando tentarmos criar métricas e plotar gráficos. Para isso, devemos fazer essa transformação nos dados."
   ]
  },
  {
   "cell_type": "code",
   "execution_count": 11,
   "id": "8c8bca80",
   "metadata": {
    "execution": {
     "iopub.execute_input": "2024-06-06T20:09:42.506271Z",
     "iopub.status.busy": "2024-06-06T20:09:42.505855Z",
     "iopub.status.idle": "2024-06-06T20:09:42.536230Z",
     "shell.execute_reply": "2024-06-06T20:09:42.534948Z"
    },
    "papermill": {
     "duration": 0.049967,
     "end_time": "2024-06-06T20:09:42.539088",
     "exception": false,
     "start_time": "2024-06-06T20:09:42.489121",
     "status": "completed"
    },
    "tags": []
   },
   "outputs": [],
   "source": [
    "#função substitui caracteres não desejados e transforma o resultado em um valor numérico\n",
    "fn = lambda valor: float(valor.replace('.', '').replace(',', '.')) if isinstance(valor, str) else valor\n",
    "\n",
    "#aplica a função nas colunas devidas\n",
    "df['valor_transacoes_12m'] = df['valor_transacoes_12m'].apply(fn)\n",
    "df['limite_credito'] = df['limite_credito'].apply(fn)"
   ]
  },
  {
   "cell_type": "markdown",
   "id": "aecc8e0f",
   "metadata": {
    "papermill": {
     "duration": 0.013799,
     "end_time": "2024-06-06T20:09:42.567411",
     "exception": false,
     "start_time": "2024-06-06T20:09:42.553612",
     "status": "completed"
    },
    "tags": []
   },
   "source": [
    "Continuando no procedimento de melhorar a qualidade dos dados, devemos remover os dados faltantes identificados no tópico anterior para trabalhar apenas com cadastros completos e válidos."
   ]
  },
  {
   "cell_type": "code",
   "execution_count": 12,
   "id": "d5a47e37",
   "metadata": {
    "execution": {
     "iopub.execute_input": "2024-06-06T20:09:42.597673Z",
     "iopub.status.busy": "2024-06-06T20:09:42.597231Z",
     "iopub.status.idle": "2024-06-06T20:09:42.611141Z",
     "shell.execute_reply": "2024-06-06T20:09:42.609666Z"
    },
    "papermill": {
     "duration": 0.0323,
     "end_time": "2024-06-06T20:09:42.613908",
     "exception": false,
     "start_time": "2024-06-06T20:09:42.581608",
     "status": "completed"
    },
    "tags": []
   },
   "outputs": [],
   "source": [
    "#remove as linhas com campos vazios e armazena no mesmo dataframe\n",
    "df.dropna(inplace = True)"
   ]
  },
  {
   "cell_type": "markdown",
   "id": "cbba0bda",
   "metadata": {
    "papermill": {
     "duration": 0.013916,
     "end_time": "2024-06-06T20:09:42.642057",
     "exception": false,
     "start_time": "2024-06-06T20:09:42.628141",
     "status": "completed"
    },
    "tags": []
   },
   "source": [
    "Vamos novamente identificar as proporções de adimplentes e inadimplentes, e comparar com os valores anteriores"
   ]
  },
  {
   "cell_type": "code",
   "execution_count": 13,
   "id": "ea09dafd",
   "metadata": {
    "execution": {
     "iopub.execute_input": "2024-06-06T20:09:42.672582Z",
     "iopub.status.busy": "2024-06-06T20:09:42.672133Z",
     "iopub.status.idle": "2024-06-06T20:09:42.684347Z",
     "shell.execute_reply": "2024-06-06T20:09:42.682931Z"
    },
    "papermill": {
     "duration": 0.030958,
     "end_time": "2024-06-06T20:09:42.687233",
     "exception": false,
     "start_time": "2024-06-06T20:09:42.656275",
     "status": "completed"
    },
    "tags": []
   },
   "outputs": [
    {
     "name": "stdout",
     "output_type": "stream",
     "text": [
      "A proporcão de adimplentes ativos é de 83.93%\n",
      "A nova proporcão de clientes adimplentes é de 84.28%\n",
      "\n",
      "A proporcão de clientes inadimplentes é de 16.07%\n",
      "A nova proporcão de clientes inadimplentes é de 15.72%\n"
     ]
    }
   ],
   "source": [
    "#novas proporções\n",
    "qtd_total_novo, _ = df.shape\n",
    "qtd_adimplentes_novo, _ = df[df['default'] == 0].shape\n",
    "qtd_inadimplentes_novo, _ = df[df['default'] == 1].shape\n",
    "\n",
    "print(f'A proporcão de adimplentes ativos é de {round(100 * qtd_adimplentes / qtd_total, 2)}%')\n",
    "print(f'A nova proporcão de clientes adimplentes é de {round(100 * qtd_adimplentes_novo / qtd_total_novo, 2)}%')\n",
    "print(f'\\nA proporcão de clientes inadimplentes é de {round(100 * qtd_inadimplentes / qtd_total, 2)}%')\n",
    "print(f'A nova proporcão de clientes inadimplentes é de {round(100 * qtd_inadimplentes_novo / qtd_total_novo, 2)}%')"
   ]
  },
  {
   "cell_type": "markdown",
   "id": "3ddaa7be",
   "metadata": {
    "papermill": {
     "duration": 0.014749,
     "end_time": "2024-06-06T20:09:42.717892",
     "exception": false,
     "start_time": "2024-06-06T20:09:42.703143",
     "status": "completed"
    },
    "tags": []
   },
   "source": [
    "# 07 - Visualização de Dados"
   ]
  },
  {
   "cell_type": "markdown",
   "id": "4f785803",
   "metadata": {
    "papermill": {
     "duration": 0.014106,
     "end_time": "2024-06-06T20:09:42.746452",
     "exception": false,
     "start_time": "2024-06-06T20:09:42.732346",
     "status": "completed"
    },
    "tags": []
   },
   "source": [
    "Agora que já tratamos adequadamente nossos dados, devemos criar visualizações. Para isso, vamos utilizar as bibliotecas seaborn e matplotlib, importadas no início deste notebook, com as quais iremos localizar os dados onde devem estar, como por exemplo definir corretamente os eixos, estabelecer a estética dos gráficos, tamanho e escala, para posteriormente interpretá-los."
   ]
  },
  {
   "cell_type": "code",
   "execution_count": 14,
   "id": "f44beb2c",
   "metadata": {
    "execution": {
     "iopub.execute_input": "2024-06-06T20:09:42.777099Z",
     "iopub.status.busy": "2024-06-06T20:09:42.776648Z",
     "iopub.status.idle": "2024-06-06T20:09:42.782656Z",
     "shell.execute_reply": "2024-06-06T20:09:42.781211Z"
    },
    "papermill": {
     "duration": 0.024527,
     "end_time": "2024-06-06T20:09:42.785356",
     "exception": false,
     "start_time": "2024-06-06T20:09:42.760829",
     "status": "completed"
    },
    "tags": []
   },
   "outputs": [],
   "source": [
    "sns.set_style('darkgrid') #definir estilo padrão dos gráficos"
   ]
  },
  {
   "cell_type": "markdown",
   "id": "40af642e",
   "metadata": {
    "papermill": {
     "duration": 0.014187,
     "end_time": "2024-06-06T20:09:42.813947",
     "exception": false,
     "start_time": "2024-06-06T20:09:42.799760",
     "status": "completed"
    },
    "tags": []
   },
   "source": [
    "Vamos armazenar os dataframes referentes a adimplentes e inadimplentes."
   ]
  },
  {
   "cell_type": "code",
   "execution_count": 15,
   "id": "8f74da6d",
   "metadata": {
    "execution": {
     "iopub.execute_input": "2024-06-06T20:09:42.844498Z",
     "iopub.status.busy": "2024-06-06T20:09:42.844096Z",
     "iopub.status.idle": "2024-06-06T20:09:42.852626Z",
     "shell.execute_reply": "2024-06-06T20:09:42.851604Z"
    },
    "papermill": {
     "duration": 0.027002,
     "end_time": "2024-06-06T20:09:42.855393",
     "exception": false,
     "start_time": "2024-06-06T20:09:42.828391",
     "status": "completed"
    },
    "tags": []
   },
   "outputs": [],
   "source": [
    "df_adimplente = df[df['default'] == 0]\n",
    "\n",
    "df_inadimplente = df[df['default'] == 1]"
   ]
  },
  {
   "cell_type": "markdown",
   "id": "f65c0e7b",
   "metadata": {
    "papermill": {
     "duration": 0.014059,
     "end_time": "2024-06-06T20:09:42.883857",
     "exception": false,
     "start_time": "2024-06-06T20:09:42.869798",
     "status": "completed"
    },
    "tags": []
   },
   "source": [
    "Criaremos 3 gráficos para cada dataframe distinto (total/adimplentes/inadimplentes), tanto para nível de escolaridade quanto para salário anual\n",
    "\n",
    "A variável 'coluna' pode receber nomes de outras colunas a serem categorizadas e quantificadas da mesma forma, assim, pode-se interpretar esses dados e suas correlações para sugerir uma causalidade.\n",
    "\n",
    "Vale ressaltar que nem sempre a correlação estatística garante que os dados são relacionados na prática, apenas apresentam um sinal que deve ser apurado pela interpretação antes de uma tomada de decisão."
   ]
  },
  {
   "cell_type": "code",
   "execution_count": 16,
   "id": "8ac6eafe",
   "metadata": {
    "execution": {
     "iopub.execute_input": "2024-06-06T20:09:42.915007Z",
     "iopub.status.busy": "2024-06-06T20:09:42.914551Z",
     "iopub.status.idle": "2024-06-06T20:09:43.923673Z",
     "shell.execute_reply": "2024-06-06T20:09:43.922111Z"
    },
    "papermill": {
     "duration": 1.027936,
     "end_time": "2024-06-06T20:09:43.926699",
     "exception": false,
     "start_time": "2024-06-06T20:09:42.898763",
     "status": "completed"
    },
    "tags": []
   },
   "outputs": [
    {
     "data": {
      "image/png": "[encoded data removed]",
      "text/plain": [
       "<Figure size 2000x500 with 3 Axes>"
      ]
     },
     "metadata": {},
     "output_type": "display_data"
    }
   ],
   "source": [
    "#Na variável 'coluna' insere-se a coluna base para a criação dos gráficos\n",
    "coluna = 'escolaridade'\n",
    "titulos = [\n",
    "    'Escolaridade de Clientes',\n",
    "    'Escolaridade de Clientes Adimplentes',\n",
    "    'Escolaridade de Clientes Inadimplentes'\n",
    "]\n",
    "\n",
    "max_y = 0\n",
    "figura, eixos = plt.subplots(1, 3, figsize = (20, 5), sharex = True)\n",
    "\n",
    "for eixo, dataframe in enumerate([df, df_adimplente, df_inadimplente]):\n",
    "    df_to_plot = dataframe[coluna].value_counts().reset_index()\n",
    "    df_to_plot.columns = [coluna, 'frequencia_absoluta']\n",
    "    df_to_plot.sort_values(by = [coluna], inplace = True)\n",
    "\n",
    "    f = sns.barplot(data = df_to_plot, x = coluna, y = 'frequencia_absoluta', ax = eixos[eixo], palette = 'muted')\n",
    "    f.set(title = titulos[eixo], xlabel = coluna.capitalize(), ylabel = 'Frequência Absolut')\n",
    "    f.set_xticklabels(labels = f.get_xticklabels(), rotation = 90)\n",
    "\n",
    "    _, max_y_f = f.get_ylim()\n",
    "    max_y = max_y_f if max_y_f > max_y else max_y\n",
    "\n",
    "for eixo in eixos:\n",
    "    eixo.set(ylim = (0, max_y))\n",
    "\n",
    "plt.show()\n"
   ]
  },
  {
   "cell_type": "markdown",
   "id": "fed55f5e",
   "metadata": {
    "papermill": {
     "duration": 0.015617,
     "end_time": "2024-06-06T20:09:43.958229",
     "exception": false,
     "start_time": "2024-06-06T20:09:43.942612",
     "status": "completed"
    },
    "tags": []
   },
   "source": [
    "Observações (Nível de Escolaridade):\n",
    "* Os clientes com maior salário são aqueles com maior nível de estudo, mas também são a maior população de inadimplentes;\n",
    "* A faixa salarial de clientes inadimplentes é significativamente menor em todos os níveis de ensino."
   ]
  },
  {
   "cell_type": "code",
   "execution_count": 17,
   "id": "dc4db22d",
   "metadata": {
    "execution": {
     "iopub.execute_input": "2024-06-06T20:09:43.991690Z",
     "iopub.status.busy": "2024-06-06T20:09:43.991207Z",
     "iopub.status.idle": "2024-06-06T20:09:45.010966Z",
     "shell.execute_reply": "2024-06-06T20:09:45.009517Z"
    },
    "papermill": {
     "duration": 1.039882,
     "end_time": "2024-06-06T20:09:45.013646",
     "exception": false,
     "start_time": "2024-06-06T20:09:43.973764",
     "status": "completed"
    },
    "tags": []
   },
   "outputs": [
    {
     "data": {
      "image/png": "[encoded data removed]",
      "text/plain": [
       "<Figure size 2000x500 with 3 Axes>"
      ]
     },
     "metadata": {},
     "output_type": "display_data"
    }
   ],
   "source": [
    "#Na variável 'coluna' insere-se a coluna base para a criação dos gráficos\n",
    "coluna = 'salario_anual'\n",
    "titulos = [\n",
    "    'Salário Anual de Clientes',\n",
    "    'Salário Anual de Clientes Adimplentes',\n",
    "    'Salário Anual de Clientes Inadimplentes'\n",
    "]\n",
    "\n",
    "max_y = 0\n",
    "figura, eixos = plt.subplots(1, 3, figsize = (20, 5), sharex = True)\n",
    "\n",
    "for eixo, dataframe in enumerate([df, df_adimplente, df_inadimplente]):\n",
    "    df_to_plot = dataframe[coluna].value_counts().reset_index()\n",
    "    df_to_plot.columns = [coluna, 'frequencia_absoluta']\n",
    "    df_to_plot.sort_values(by = [coluna], inplace = True)\n",
    "\n",
    "    f = sns.barplot(data = df_to_plot, x = coluna, y = 'frequencia_absoluta', ax = eixos[eixo], palette = 'muted')\n",
    "    f.set(title = titulos[eixo], xlabel = coluna.capitalize(), ylabel = 'Frequência Absolut')\n",
    "    f.set_xticklabels(labels = f.get_xticklabels(), rotation = 90)\n",
    "\n",
    "    _, max_y_f = f.get_ylim()\n",
    "    max_y = max_y_f if max_y_f > max_y else max_y\n",
    "\n",
    "for eixo in eixos:\n",
    "    eixo.set(ylim = (0, max_y))\n",
    "\n",
    "plt.show()\n"
   ]
  },
  {
   "cell_type": "markdown",
   "id": "f2cbce5c",
   "metadata": {
    "papermill": {
     "duration": 0.01597,
     "end_time": "2024-06-06T20:09:45.047874",
     "exception": false,
     "start_time": "2024-06-06T20:09:45.031904",
     "status": "completed"
    },
    "tags": []
   },
   "source": [
    "Observações (Salário Anual):\n",
    "* A maioria dos clientes dessa instituição possuem renda inferior a RS40k anuais, o que é uma indicação clara do público-alvo. Isso pode ser útil na criação de produtos/serviços e campanhas publicitárias, por exemplo."
   ]
  },
  {
   "cell_type": "code",
   "execution_count": 18,
   "id": "1611922e",
   "metadata": {
    "execution": {
     "iopub.execute_input": "2024-06-06T20:09:45.082305Z",
     "iopub.status.busy": "2024-06-06T20:09:45.081864Z",
     "iopub.status.idle": "2024-06-06T20:09:45.976144Z",
     "shell.execute_reply": "2024-06-06T20:09:45.974807Z"
    },
    "papermill": {
     "duration": 0.914777,
     "end_time": "2024-06-06T20:09:45.978897",
     "exception": false,
     "start_time": "2024-06-06T20:09:45.064120",
     "status": "completed"
    },
    "tags": []
   },
   "outputs": [
    {
     "data": {
      "image/png": "[encoded data removed]",
      "text/plain": [
       "<Figure size 2000x500 with 3 Axes>"
      ]
     },
     "metadata": {},
     "output_type": "display_data"
    }
   ],
   "source": [
    "#Na variável 'coluna' insere-se a coluna base para a criação dos gráficos\n",
    "coluna = 'dependentes'\n",
    "titulos = [\n",
    "    'Número de Dependentes dos Clientes',\n",
    "    'Dependentes de Clientes Adimplentes',\n",
    "    'Dependentes de Clientes Inadimplentes'\n",
    "]\n",
    "\n",
    "max_y = 0\n",
    "figura, eixos = plt.subplots(1, 3, figsize = (20, 5), sharex = True)\n",
    "\n",
    "for eixo, dataframe in enumerate([df, df_adimplente, df_inadimplente]):\n",
    "    df_to_plot = dataframe[coluna].value_counts().reset_index()\n",
    "    df_to_plot.columns = [coluna, 'frequencia_absoluta']\n",
    "    df_to_plot.sort_values(by = [coluna], inplace = True)\n",
    "\n",
    "    f = sns.barplot(data = df_to_plot, x = coluna, y = 'frequencia_absoluta', ax = eixos[eixo], palette = 'muted')\n",
    "    f.set(title = titulos[eixo], xlabel = coluna.capitalize(), ylabel = 'Frequência Absolut')\n",
    "    f.set_xticklabels(labels = f.get_xticklabels(), rotation = 90)\n",
    "\n",
    "    _, max_y_f = f.get_ylim()\n",
    "    max_y = max_y_f if max_y_f > max_y else max_y\n",
    "\n",
    "for eixo in eixos:\n",
    "    eixo.set(ylim = (0, max_y))\n",
    "\n",
    "plt.show()\n"
   ]
  },
  {
   "cell_type": "markdown",
   "id": "ea54cc13",
   "metadata": {
    "papermill": {
     "duration": 0.081266,
     "end_time": "2024-06-06T20:09:46.077369",
     "exception": false,
     "start_time": "2024-06-06T20:09:45.996103",
     "status": "completed"
    },
    "tags": []
   },
   "source": [
    "Observações (Dependentes):\n",
    "* A maioria dos clientes possuem entre 2 e 3 filhos;\n",
    "* As categorias Mantém sua proporção, o que significa que o número de dependentes não necessariamente tem relação com o estado de adimplência."
   ]
  },
  {
   "cell_type": "code",
   "execution_count": 19,
   "id": "af2aaa9d",
   "metadata": {
    "execution": {
     "iopub.execute_input": "2024-06-06T20:09:46.115919Z",
     "iopub.status.busy": "2024-06-06T20:09:46.115451Z",
     "iopub.status.idle": "2024-06-06T20:09:46.905111Z",
     "shell.execute_reply": "2024-06-06T20:09:46.903851Z"
    },
    "papermill": {
     "duration": 0.811382,
     "end_time": "2024-06-06T20:09:46.908018",
     "exception": false,
     "start_time": "2024-06-06T20:09:46.096636",
     "status": "completed"
    },
    "tags": []
   },
   "outputs": [
    {
     "data": {
      "image/png": "[encoded data removed]",
      "text/plain": [
       "<Figure size 2000x500 with 3 Axes>"
      ]
     },
     "metadata": {},
     "output_type": "display_data"
    }
   ],
   "source": [
    "#Na variável 'coluna' insere-se a coluna base para a criação dos gráficos\n",
    "coluna = 'estado_civil'\n",
    "titulos = [\n",
    "    'Estado Civil de Clientes',\n",
    "    'Estado Civil de Clientes Adimplentes',\n",
    "    'Estado Civil de Clientes Inadimplentes'\n",
    "]\n",
    "\n",
    "max_y = 0\n",
    "figura, eixos = plt.subplots(1, 3, figsize = (20, 5), sharex = True)\n",
    "\n",
    "for eixo, dataframe in enumerate([df, df_adimplente, df_inadimplente]):\n",
    "    df_to_plot = dataframe[coluna].value_counts().reset_index()\n",
    "    df_to_plot.columns = [coluna, 'frequencia_absoluta']\n",
    "    df_to_plot.sort_values(by = [coluna], inplace = True)\n",
    "\n",
    "    f = sns.barplot(data = df_to_plot, x = coluna, y = 'frequencia_absoluta', ax = eixos[eixo], palette = 'muted')\n",
    "    f.set(title = titulos[eixo], xlabel = coluna.capitalize(), ylabel = 'Frequência Absolut')\n",
    "    f.set_xticklabels(labels = f.get_xticklabels(), rotation = 90)\n",
    "\n",
    "    _, max_y_f = f.get_ylim()\n",
    "    max_y = max_y_f if max_y_f > max_y else max_y\n",
    "\n",
    "for eixo in eixos:\n",
    "    eixo.set(ylim = (0, max_y))\n",
    "\n",
    "plt.show()\n"
   ]
  },
  {
   "cell_type": "markdown",
   "id": "333c62dc",
   "metadata": {
    "papermill": {
     "duration": 0.017969,
     "end_time": "2024-06-06T20:09:46.943717",
     "exception": false,
     "start_time": "2024-06-06T20:09:46.925748",
     "status": "completed"
    },
    "tags": []
   },
   "source": [
    "Observações (Estado Civil):\n",
    "* A maior população de clientes com estado civil 'casado' é a maior entre as 3 classes, o que pode trazer uma perspectiva do estilo de vida dessa população. Um exemplo de utilidade para essa análise é o dimensionamento da quantidade de crédito disponível para cada tipo de cliente, avaliando também histórico de inadimplência de tais perfis."
   ]
  },
  {
   "cell_type": "code",
   "execution_count": 20,
   "id": "4b3f090a",
   "metadata": {
    "execution": {
     "iopub.execute_input": "2024-06-06T20:09:46.981311Z",
     "iopub.status.busy": "2024-06-06T20:09:46.980867Z",
     "iopub.status.idle": "2024-06-06T20:09:47.743228Z",
     "shell.execute_reply": "2024-06-06T20:09:47.741932Z"
    },
    "papermill": {
     "duration": 0.784593,
     "end_time": "2024-06-06T20:09:47.746141",
     "exception": false,
     "start_time": "2024-06-06T20:09:46.961548",
     "status": "completed"
    },
    "tags": []
   },
   "outputs": [
    {
     "data": {
      "image/png": "[encoded data removed]",
      "text/plain": [
       "<Figure size 2000x500 with 3 Axes>"
      ]
     },
     "metadata": {},
     "output_type": "display_data"
    }
   ],
   "source": [
    "#Na variável 'coluna' insere-se a coluna base para a criação dos gráficos\n",
    "coluna = 'tipo_cartao'\n",
    "titulos = [\n",
    "    'Tipo do Cartão de Clientes',\n",
    "    'Tipo do Cartão de Clientes Adimplentes',\n",
    "    'Tipo do Cartão de Clientes Inadimplentes'\n",
    "]\n",
    "\n",
    "max_y = 0\n",
    "figura, eixos = plt.subplots(1, 3, figsize = (20, 5), sharex = True)\n",
    "\n",
    "for eixo, dataframe in enumerate([df, df_adimplente, df_inadimplente]):\n",
    "    df_to_plot = dataframe[coluna].value_counts().reset_index()\n",
    "    df_to_plot.columns = [coluna, 'frequencia_absoluta']\n",
    "    df_to_plot.sort_values(by = [coluna], inplace = True)\n",
    "\n",
    "    f = sns.barplot(data = df_to_plot, x = coluna, y = 'frequencia_absoluta', ax = eixos[eixo], palette = 'muted')\n",
    "    f.set(title = titulos[eixo], xlabel = coluna.capitalize(), ylabel = 'Frequência Absolut')\n",
    "    f.set_xticklabels(labels = f.get_xticklabels(), rotation = 90)\n",
    "\n",
    "    _, max_y_f = f.get_ylim()\n",
    "    max_y = max_y_f if max_y_f > max_y else max_y\n",
    "\n",
    "for eixo in eixos:\n",
    "    eixo.set(ylim = (0, max_y))\n",
    "\n",
    "plt.show()"
   ]
  },
  {
   "cell_type": "markdown",
   "id": "e265ec4e",
   "metadata": {
    "papermill": {
     "duration": 0.018876,
     "end_time": "2024-06-06T20:09:47.783623",
     "exception": false,
     "start_time": "2024-06-06T20:09:47.764747",
     "status": "completed"
    },
    "tags": []
   },
   "source": [
    "Observações (Tipo do Cartão):\n",
    "* É bastante evidente que a maior parte dos clientes possuem o cartão Blue."
   ]
  },
  {
   "cell_type": "markdown",
   "id": "71f1b982",
   "metadata": {
    "papermill": {
     "duration": 0.01845,
     "end_time": "2024-06-06T20:09:47.821047",
     "exception": false,
     "start_time": "2024-06-06T20:09:47.802597",
     "status": "completed"
    },
    "tags": []
   },
   "source": [
    "# 08 - Conclusão"
   ]
  },
  {
   "cell_type": "markdown",
   "id": "1830d7a8",
   "metadata": {
    "papermill": {
     "duration": 0.018456,
     "end_time": "2024-06-06T20:09:47.858263",
     "exception": false,
     "start_time": "2024-06-06T20:09:47.839807",
     "status": "completed"
    },
    "tags": []
   },
   "source": [
    "Ao longo do escopo desse projeto de estudos, pudemos passar pelas etapas triviais do cientista de dados, que são a **obtenção, exploração, limpeza e tratamento, visualização e interpretação dos resultados**. Essas etapas são responsáveis por criar materiais para consulta e embasamento para a gestão dos recursos da empresa (*Data Driven*).\n",
    "\n",
    "Quanto aos *insights* extraídos, o principal fator determinante no nível de inadimplência **não parece ser** a faixa salarial, sexo, número de dependentes ou estado civil, mas sim, **nível de escolaridade** e **tipo de cartão**. Talvez seja contra-intuitivo identificar que a faixa salarial possui pouca influência no número de inadimplentes (talvez tenham relação com o montante de valor devido, ou a proporção de dívida referente ao salário).\n",
    "\n",
    "Sugestões de ações que podem ser consideradas:\n",
    "* Campanha publicitária com a finalidade de atrair mais clientes de um perfil que tenha um balanceamento entre menor taxa de inadimplência e maior população;\n",
    "* Criar e direcionar um material dedicado à educação financeira dos clientes inadimplentes ou aqueles que possuem o mesmo perfil mas não são inadimplentes;\n",
    "* Evoluir as técnicas de comunicação entre a empresa e o cliente para notificá-los que estão inadimplentes ou que têm risco de estar;\n",
    "* Ajustar o limite de crédito dos clientes com base em seu histórico de crédito.\n",
    "\n",
    "Algo que eu gostaria de fazer porém **ainda** não tenho conhecimento de programação para realizar, seria comparar, em uma determinada coluna, a proporção de adimplentes/inadimplentes numericamente em uma tabela, para poder verificar quais as maiores diferenças e assim, ter mais certeza ao apontar as diferenças.\n",
    "\n",
    "Com as visualizações, observamos alguns aspectos de cada um dos escopos, criando *insights* que podem ser úteis para a **tomada de decisão**. Ainda assim, é sempre bem vinda a adição de novas perspectivas sobre os dados, para que não hajam interpretações equivocadas, isso pode ser atingido vindo do compartilhamento e discussão em equipe.\n",
    "\n",
    "Assim, encerro este documento, e vejo que este projeto foi muito útil para estudar tanto os conceitos de ciência de dados, quanto a linguagem de programação em si."
   ]
  }
 ],
 "metadata": {
  "kaggle": {
   "accelerator": "none",
   "dataSources": [
    {
     "datasetId": 5163533,
     "sourceId": 8624942,
     "sourceType": "datasetVersion"
    }
   ],
   "dockerImageVersionId": 30732,
   "isGpuEnabled": false,
   "isInternetEnabled": true,
   "language": "python",
   "sourceType": "notebook"
  },
  "kernelspec": {
   "display_name": "Python 3",
   "language": "python",
   "name": "python3"
  },
  "language_info": {
   "codemirror_mode": {
    "name": "ipython",
    "version": 3
   },
   "file_extension": ".py",
   "mimetype": "text/x-python",
   "name": "python",
   "nbconvert_exporter": "python",
   "pygments_lexer": "ipython3",
   "version": "3.10.13"
  },
  "papermill": {
   "default_parameters": {},
   "duration": 13.901036,
   "end_time": "2024-06-06T20:09:48.600712",
   "environment_variables": {},
   "exception": null,
   "input_path": "__notebook__.ipynb",
   "output_path": "__notebook__.ipynb",
   "parameters": {},
   "start_time": "2024-06-06T20:09:34.699676",
   "version": "2.5.0"
  }
 },
 "nbformat": 4,
 "nbformat_minor": 5
}
