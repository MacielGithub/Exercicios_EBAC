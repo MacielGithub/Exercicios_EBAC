{
 "cells": [
  {
   "cell_type": "markdown",
   "metadata": {},
   "source": [
    "# Módulo 5 Tarefa 1\n",
    "## Base de nascidos vivos do DataSUS\n",
    "O DataSUS disponibiliza diversos arquivos de dados com relação a seus segurados, conforme a [lei da transparência de informações públicas](https://www.sisgov.com/transparencia-acesso-informacao/#:~:text=A%20Lei%20da%20Transpar%C3%AAncia%20(LC,em%20um%20site%20na%20internet.). \n",
    "\n",
    "Essas informações podem ser obtidas pela internet [aqui](http://www2.datasus.gov.br/DATASUS/index.php?area=0901&item=1). Como o processo de obtenção desses arquivos foge um pouco do nosso escopo, deixamos o arquivo SINASC_RO_2019.csv` já como vai ser encontrado no DataSUS. O dicionário de dados está no arquivo `estrutura_sinasc_para_CD.pdf` (o nome do arquivo tal qual no portal do DataSUS).\n",
    "\n",
    "### Nosso objetivo\n",
    "Queremos deixar uma base organizada para podermos estudar a relação entre partos com risco para o bebê e algumas condições como tempo de parto, consultas de pré-natal etc.\n",
    "\n",
    "#### Preparação da base\n",
    "1. Carregue a base 'SINASC_RO_2019.csv'. Conte o número de registros e o número de registros não duplicados da base. Dica: você aprendeu um método que remove duplicados, encadeie este método com um outro método que conta o número de linhas. **Há linhas duplicadas?**  \n",
    "\n",
    "2. Conte o número de valores *missing* por variável.  \n",
    "\n",
    "3. Ok, no item anterior você deve ter achado pouco prático ler a informação de tantas variáveis, muitas delas nem devem ser interesantes. Então crie uma seleção dessa base somente com as colunas que interessam. São elas:\n",
    "` \n",
    "['LOCNASC', 'IDADEMAE', 'ESTCIVMAE', 'ESCMAE', 'QTDFILVIVO', \n",
    "    'GESTACAO', 'GRAVIDEZ', 'CONSULTAS', 'APGAR5'] \n",
    "`\n",
    "Refaça a contagem de valores *missings*.  \n",
    "\n",
    "4. Apgar é uma *nota* que o pediatra dá ao bebê quando nasce de acordo com algumas características associadas principalmente à respiração. Apgar 1 e Apgar 5 são as notas 1 e 5 minutos do nascimento. Apgar5 será a nossa variável de interesse principal. Então remova todos os registros com Apgar5 não preenchido. Para esta seleção, conte novamente o número de linhas e o número de *missings*.  \n",
    "\n",
    "5. observe que as variáveis `['ESTCIVMAE', 'CONSULTAS']` possuem o código `9`, que significa *ignorado*. Vamos assumir que o não preenchido é o mesmo que o código `9`.<br>\n",
    "6. Substitua os valores faltantes da quantitativa (`QTDFILVIVO`) por zero.  \n",
    "7. Das restantes, decida que valore te parece mais adequado (um 'não preenchido' ou um valor 'mais provável' como no item anterior) e preencha. Justifique. Lembre-se de que tratamento de dados é trabalho do cientista, e que estamos tomando decisões a todo o momento - não há necessariamente certo e errado aqui.  \n",
    "8. O Apgar possui uma classificação indicando se o bebê passou por asfixia:\n",
    "- Entre 8 e 10 está em uma faixa 'normal'. \n",
    "- Entre 6 e 7, significa que o recém-nascido passou por 'asfixia leve'. \n",
    "- Entre 4 e 5 significa 'asfixia moderada'.\n",
    "- Entre 0 e 3 significa 'asfixia severa'.  \n",
    "\n",
    "Crie uma categorização dessa variável com essa codificação e calcule as frequências dessa categorização.  \n",
    "<br>\n",
    "9. Renomeie as variáveis para que fiquem no *snake case*, ou seja, em letras minúsculas, com um *underscore* entre as palávras. Dica: repare que se você não quiser criar um *dataframe* novo, você vai precisar usar a opção `inplace = True`."
   ]
  },
  {
   "cell_type": "code",
   "execution_count": 23,
   "metadata": {},
   "outputs": [
    {
     "name": "stdout",
     "output_type": "stream",
     "text": [
      "(27028, 69)\n"
     ]
    },
    {
     "data": {
      "text/plain": [
       "(27028, 69)"
      ]
     },
     "execution_count": 23,
     "metadata": {},
     "output_type": "execute_result"
    }
   ],
   "source": [
    "import pandas as pd\n",
    "import numpy as np\n",
    "\n",
    "import requests\n",
    "\n",
    "# 1) seu código aqui\n",
    "sinasc = pd.read_csv('data/M5_E1/SINASC_RO_2019.csv')\n",
    "print(sinasc.shape)\n",
    "sinasc.drop_duplicates().shape\n",
    "\n",
    "# Não há duplicados"
   ]
  },
  {
   "cell_type": "code",
   "execution_count": 24,
   "metadata": {},
   "outputs": [
    {
     "data": {
      "text/plain": [
       "ORIGEM          0\n",
       "CODESTAB      115\n",
       "CODMUNNASC      0\n",
       "LOCNASC         0\n",
       "IDADEMAE        0\n",
       "             ... \n",
       "munResUf        0\n",
       "munResLat       1\n",
       "munResLon       1\n",
       "munResAlt       1\n",
       "munResArea      1\n",
       "Length: 69, dtype: int64"
      ]
     },
     "execution_count": 24,
     "metadata": {},
     "output_type": "execute_result"
    }
   ],
   "source": [
    "# 2) seu código aqui\n",
    "sinasc.isnull().sum()\n"
   ]
  },
  {
   "cell_type": "code",
   "execution_count": 25,
   "metadata": {},
   "outputs": [
    {
     "data": {
      "text/plain": [
       "LOCNASC          0\n",
       "IDADEMAE         0\n",
       "ESTCIVMAE      317\n",
       "ESCMAE         312\n",
       "QTDFILVIVO    1573\n",
       "GESTACAO      1232\n",
       "GRAVIDEZ        79\n",
       "CONSULTAS        0\n",
       "APGAR5         103\n",
       "dtype: int64"
      ]
     },
     "execution_count": 25,
     "metadata": {},
     "output_type": "execute_result"
    }
   ],
   "source": [
    "# 3) seu código aqui\n",
    "\n",
    "selecionadas = ['LOCNASC', 'IDADEMAE', 'ESTCIVMAE', 'ESCMAE', 'QTDFILVIVO', 'GESTACAO', 'GRAVIDEZ', 'CONSULTAS', 'APGAR5']\n",
    "sinasc[selecionadas].isnull().sum()"
   ]
  },
  {
   "cell_type": "code",
   "execution_count": 26,
   "metadata": {},
   "outputs": [
    {
     "name": "stdout",
     "output_type": "stream",
     "text": [
      "(26925, 69)\n"
     ]
    },
    {
     "data": {
      "text/plain": [
       "LOCNASC          0\n",
       "IDADEMAE         0\n",
       "ESTCIVMAE      315\n",
       "ESCMAE         310\n",
       "QTDFILVIVO    1566\n",
       "GESTACAO      1216\n",
       "GRAVIDEZ        76\n",
       "CONSULTAS        0\n",
       "APGAR5           0\n",
       "dtype: int64"
      ]
     },
     "execution_count": 26,
     "metadata": {},
     "output_type": "execute_result"
    }
   ],
   "source": [
    "# 4) seu código aqui\n",
    "\n",
    "sinasc = sinasc[sinasc['APGAR5'].notna()]\n",
    "\n",
    "print(sinasc.shape)\n",
    "sinasc[selecionadas].isnull().sum()"
   ]
  },
  {
   "cell_type": "code",
   "execution_count": 27,
   "metadata": {},
   "outputs": [
    {
     "name": "stdout",
     "output_type": "stream",
     "text": [
      "(26925, 69)\n",
      "       ORIGEM  CODESTAB  CODMUNNASC  LOCNASC  IDADEMAE ESTCIVMAE ESCMAE  \\\n",
      "0         NaN       NaN         NaN      NaN       NaN       NaN    NaN   \n",
      "1         NaN       NaN         NaN      NaN       NaN       NaN    NaN   \n",
      "2         NaN       NaN         NaN      NaN       NaN  ignorado    NaN   \n",
      "3         NaN       NaN         NaN      NaN       NaN       NaN    NaN   \n",
      "4         NaN       NaN         NaN      NaN       NaN       NaN    NaN   \n",
      "...       ...       ...         ...      ...       ...       ...    ...   \n",
      "27023     NaN       NaN         NaN      NaN       NaN       NaN    NaN   \n",
      "27024     NaN       NaN         NaN      NaN       NaN       NaN    NaN   \n",
      "27025     NaN       NaN         NaN      NaN       NaN       NaN    NaN   \n",
      "27026     NaN       NaN         NaN      NaN       NaN       NaN    NaN   \n",
      "27027     NaN       NaN         NaN      NaN       NaN       NaN    NaN   \n",
      "\n",
      "       CODOCUPMAE  QTDFILVIVO  QTDFILMORT  ...  KOTELCHUCK CONTADOR  \\\n",
      "0             NaN         NaN         NaN  ...         NaN      NaN   \n",
      "1             NaN         NaN         NaN  ...         NaN      NaN   \n",
      "2             NaN         NaN         NaN  ...         NaN      NaN   \n",
      "3             NaN         NaN         NaN  ...         NaN      NaN   \n",
      "4             NaN         NaN         NaN  ...         NaN      NaN   \n",
      "...           ...         ...         ...  ...         ...      ...   \n",
      "27023         NaN         NaN         NaN  ...         NaN      NaN   \n",
      "27024         NaN         NaN         NaN  ...         NaN      NaN   \n",
      "27025         NaN         NaN         NaN  ...         NaN      NaN   \n",
      "27026         NaN         NaN         NaN  ...         NaN      NaN   \n",
      "27027         NaN         NaN         NaN  ...         NaN      NaN   \n",
      "\n",
      "      munResStatus munResTipo munResNome munResUf  munResLat munResLon  \\\n",
      "0              NaN        NaN        NaN      NaN        NaN       NaN   \n",
      "1              NaN        NaN        NaN      NaN        NaN       NaN   \n",
      "2              NaN        NaN        NaN      NaN        NaN       NaN   \n",
      "3              NaN        NaN        NaN      NaN        NaN       NaN   \n",
      "4              NaN        NaN        NaN      NaN        NaN       NaN   \n",
      "...            ...        ...        ...      ...        ...       ...   \n",
      "27023          NaN        NaN        NaN      NaN        NaN       NaN   \n",
      "27024          NaN        NaN        NaN      NaN        NaN       NaN   \n",
      "27025          NaN        NaN        NaN      NaN        NaN       NaN   \n",
      "27026          NaN        NaN        NaN      NaN        NaN       NaN   \n",
      "27027          NaN        NaN        NaN      NaN        NaN       NaN   \n",
      "\n",
      "       munResAlt  munResArea  \n",
      "0            NaN         NaN  \n",
      "1            NaN         NaN  \n",
      "2            NaN         NaN  \n",
      "3            NaN         NaN  \n",
      "4            NaN         NaN  \n",
      "...          ...         ...  \n",
      "27023        NaN         NaN  \n",
      "27024        NaN         NaN  \n",
      "27025        NaN         NaN  \n",
      "27026        NaN         NaN  \n",
      "27027        NaN         NaN  \n",
      "\n",
      "[26925 rows x 69 columns]\n"
     ]
    }
   ],
   "source": [
    "# 5) seu código aqui\n",
    "\n",
    "estadocivil_consultas = ['ESTCIVMAE', 'CONSULTAS']\n",
    "\n",
    "sinasc[estadocivil_consultas] = sinasc[estadocivil_consultas].replace(9, 'ignorado')\n",
    "\n",
    "print(sinasc.shape)\n",
    "print(sinasc[sinasc[estadocivil_consultas] == 'ignorado'])"
   ]
  },
  {
   "cell_type": "code",
   "execution_count": 28,
   "metadata": {},
   "outputs": [
    {
     "data": {
      "text/plain": [
       "0        0.0\n",
       "1        1.0\n",
       "2        2.0\n",
       "3        0.0\n",
       "4        1.0\n",
       "        ... \n",
       "27023    1.0\n",
       "27024    0.0\n",
       "27025    0.0\n",
       "27026    1.0\n",
       "27027    1.0\n",
       "Name: QTDFILVIVO, Length: 26925, dtype: float64"
      ]
     },
     "execution_count": 28,
     "metadata": {},
     "output_type": "execute_result"
    }
   ],
   "source": [
    "# 6) Seu código aqui\n",
    "\n",
    "sinasc['QTDFILVIVO'].fillna(0)\n",
    "\n",
    "sinasc['QTDFILVIVO']"
   ]
  },
  {
   "cell_type": "code",
   "execution_count": 29,
   "metadata": {},
   "outputs": [],
   "source": [
    "# 7) seu código aqui\n",
    "\n",
    "#não entendi"
   ]
  },
  {
   "cell_type": "code",
   "execution_count": 30,
   "metadata": {},
   "outputs": [
    {
     "data": {
      "text/plain": [
       "APGAR5_categoria\n",
       "normal              98.284123\n",
       "asfixia leve         1.188487\n",
       "asfixia severa       0.274838\n",
       "asfixia moderada     0.252553\n",
       "Name: count, dtype: float64"
      ]
     },
     "execution_count": 30,
     "metadata": {},
     "output_type": "execute_result"
    }
   ],
   "source": [
    "# 8) seu código aqui\n",
    "\n",
    "def categoria_apgar5(apgar5):\n",
    "\n",
    "    if 8 <= apgar5 <= 10:\n",
    "        return 'normal'\n",
    "    elif 6 <= apgar5 <= 7:\n",
    "        return 'asfixia leve'\n",
    "    elif 4 <= apgar5 <= 5:\n",
    "        return 'asfixia moderada'\n",
    "    elif 0 <= apgar5 <= 3:\n",
    "        return 'asfixia severa'\n",
    "    else:\n",
    "        return 'não categorizado'\n",
    "\n",
    "sinasc['APGAR5_categoria'] = sinasc['APGAR5'].apply(categoria_apgar5)\n",
    "\n",
    "apgar5_counts = sinasc['APGAR5_categoria'].value_counts()\n",
    "percent_apgar5 = apgar5_counts / len(sinasc['APGAR5_categoria']) * 100\n",
    "\n",
    "percent_apgar5"
   ]
  },
  {
   "cell_type": "code",
   "execution_count": 31,
   "metadata": {},
   "outputs": [
    {
     "data": {
      "text/plain": [
       "Index(['origem', 'codes_tab', 'cod_munnasc', 'loc_nasc', 'idade_mae',\n",
       "       'est_civ_mae', 'esc_mae', 'cod_ocup_mae', 'qtd_fil_vivo',\n",
       "       'qtd_fil_mort', 'cod_mun_res', 'gestacao', 'gravidez', 'parto',\n",
       "       'consultas', 'dt_nasc', 'hora_nasc', 'sexo', 'apgar1', 'apgar5',\n",
       "       'raca_cor', 'peso', 'idanomal', 'dt_cadastro', 'cod_anomal',\n",
       "       'numero_lote', 'versao_sist', 'dt_recebim', 'dif_data', 'dt_recoriga',\n",
       "       'natural_mae', 'cod_mun_natu', 'cod_uf_natu', 'esc_mae_2010',\n",
       "       'seriesc_mae', 'dt_nasc_mae', 'raca_cor_mae', 'qtd_gestant',\n",
       "       'qtd_part_nor', 'qtd_part_ces', 'idade_pai', 'dt_ult_menst',\n",
       "       'sema_gestac', 'tp_met_estim', 'cons_prenat', 'mes_prenat',\n",
       "       'tp_apresent', 'sttrabpart', 'st_ces_parto', 'tpnascassi', 'tpfuncresp',\n",
       "       'tpdocresp', 'dt_declarac', 'escmaeagr1', 'stdnepidem', 'stdnnova',\n",
       "       'cod_paisres', 'tp_robson', 'paridade', 'kotelchuck', 'contador',\n",
       "       'mun_res_status', 'mun_res_tipo', 'mun_res_nome', 'mun_res_uf',\n",
       "       'mun_res_lat', 'mun_res_lon', 'mun_res_alt', 'mun_res_area',\n",
       "       'apgar5_categoria'],\n",
       "      dtype='object')"
      ]
     },
     "execution_count": 31,
     "metadata": {},
     "output_type": "execute_result"
    }
   ],
   "source": [
    "# 9) seu código aqui\n",
    "\n",
    "sinasc.columns = sinasc.columns.str.lower()\n",
    "\n",
    "sinasc.columns = ['origem', 'codes_tab', 'cod_munnasc', 'loc_nasc', 'idade_mae', 'est_civ_mae',\n",
    "       'esc_mae', 'cod_ocup_mae', 'qtd_fil_vivo', 'qtd_fil_mort', 'cod_mun_res',\n",
    "       'gestacao', 'gravidez', 'parto', 'consultas', 'dt_nasc', 'hora_nasc',\n",
    "       'sexo', 'apgar1', 'apgar5', 'raca_cor', 'peso', 'idanomal', 'dt_cadastro',\n",
    "       'cod_anomal', 'numero_lote', 'versao_sist', 'dt_recebim', 'dif_data',\n",
    "       'dt_recoriga', 'natural_mae', 'cod_mun_natu', 'cod_uf_natu', 'esc_mae_2010',\n",
    "       'seriesc_mae', 'dt_nasc_mae', 'raca_cor_mae', 'qtd_gestant', 'qtd_part_nor',\n",
    "       'qtd_part_ces', 'idade_pai', 'dt_ult_menst', 'sema_gestac', 'tp_met_estim',\n",
    "       'cons_prenat', 'mes_prenat', 'tp_apresent', 'sttrabpart', 'st_ces_parto',\n",
    "       'tpnascassi', 'tpfuncresp', 'tpdocresp', 'dt_declarac', 'escmaeagr1',\n",
    "       'stdnepidem', 'stdnnova', 'cod_paisres', 'tp_robson', 'paridade',\n",
    "       'kotelchuck', 'contador', 'mun_res_status', 'mun_res_tipo', 'mun_res_nome',\n",
    "       'mun_res_uf', 'mun_res_lat', 'mun_res_lon', 'mun_res_alt', 'mun_res_area',\n",
    "       'apgar5_categoria']\n",
    "\n",
    "sinasc.columns"
   ]
  }
 ],
 "metadata": {
  "kernelspec": {
   "display_name": "Python 3",
   "language": "python",
   "name": "python3"
  },
  "language_info": {
   "codemirror_mode": {
    "name": "ipython",
    "version": 3
   },
   "file_extension": ".py",
   "mimetype": "text/x-python",
   "name": "python",
   "nbconvert_exporter": "python",
   "pygments_lexer": "ipython3",
   "version": "3.11.7"
  }
 },
 "nbformat": 4,
 "nbformat_minor": 4
}
