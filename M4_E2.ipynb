{
  "cells": [
    {
      "cell_type": "markdown",
      "metadata": {
        "id": "njUvbhQmC8-t"
      },
      "source": [
        "## Exercício 1: Vestibular\n",
        "\n",
        "Considere que a os dados gerados na célula abaixo contêm o número de acertos de 100 alunos em um vestibular para um curso de exatas, divididas pelos respectivos assuntos. Considere que cada assunto possui um número de questões conforme a tabela abaixo:\n",
        "\n",
        "| assunto | número de questões |\n",
        "|:---:|:---:|\n",
        "| Matemática | 24 |\n",
        "| Português | 18 |\n",
        "| Geografia | 8 |\n",
        "| Inglês | 8 |\n",
        "| História | 8 |\n",
        "| Física | 12 |\n",
        "| Química | 12 |\n",
        "\n",
        "Usando os comandos de operações com DataFrames que você aprendeu na Aula 03, calcule:\n",
        "\n",
        "1. (operações com escalar) Calcule o percentual de acerto dos alunos por assunto.  \n",
        "2. (operações entre *DataFrames) Calcule o total de acertos de cada aluno.  \n",
        "3. Calcule o porcentual geral de cada aluno.  \n",
        "4. Suponha que a nota de corte para a segunda fase seja 45. Quantos alunos tiveram nota maior que 45?  "
      ]
    },
    {
      "cell_type": "code",
      "execution_count": 32,
      "metadata": {
        "id": "Ll6TadxCC8-y"
      },
      "outputs": [],
      "source": [
        "import pandas as pd\n",
        "import numpy as np\n",
        "\n",
        "# tentei fazer meu melhor mas não consegui resolver os problemas 1 e 2 em menos linhas, alguem sabe como fazer?\n",
        "\n",
        "np.random.seed(42) #resposta para a questão fundamental da vida o universo e tudo mais\n",
        "\n",
        "df_mat = pd.DataFrame(np.random.randint(24, size=(100, 1)), columns=['Qt_acertos'])\n",
        "df_por = pd.DataFrame(np.random.randint(18, size=(100, 1)), columns=['Qt_acertos'])\n",
        "df_geo = pd.DataFrame(np.random.randint(8, size=(100, 1)), columns=['Qt_acertos'])\n",
        "df_ing = pd.DataFrame(np.random.randint(8, size=(100, 1)), columns=['Qt_acertos'])\n",
        "df_his = pd.DataFrame(np.random.randint(8, size=(100, 1)), columns=['Qt_acertos'])\n",
        "df_fis = pd.DataFrame(np.random.randint(12, size=(100, 1)), columns=['Qt_acertos'])\n",
        "df_qui = pd.DataFrame(np.random.randint(12, size=(100, 1)), columns=['Qt_acertos'])"
      ]
    },
    {
      "cell_type": "code",
      "execution_count": 33,
      "metadata": {
        "id": "JVmLXiC2C8-0"
      },
      "outputs": [
        {
          "data": {
            "text/plain": [
              "{'Matemática': np.float64(49.375),\n",
              " 'Português': np.float64(40.166666666666664),\n",
              " 'Geografia': np.float64(42.0),\n",
              " 'Inglês': np.float64(47.625),\n",
              " 'História': np.float64(45.0),\n",
              " 'Física': np.float64(44.333333333333336),\n",
              " 'Química': np.float64(45.24999999999999)}"
            ]
          },
          "execution_count": 33,
          "metadata": {},
          "output_type": "execute_result"
        }
      ],
      "source": [
        "# 1) Seu código aqui\n",
        "\n",
        "nota_mat = (np.mean(df_mat)/24) * 100\n",
        "nota_por = (np.mean(df_por)/18) * 100\n",
        "nota_geo = (np.mean(df_geo)/8) * 100\n",
        "nota_ing = (np.mean(df_ing)/8) * 100\n",
        "nota_his = (np.mean(df_his)/8) * 100\n",
        "nota_fis = (np.mean(df_fis)/12) * 100\n",
        "nota_qui = (np.mean(df_qui)/12) * 100\n",
        "\n",
        "percentuais_acerto = dict(\n",
        "    Matemática = nota_mat,\n",
        "    Português = nota_por,\n",
        "    Geografia = nota_geo,\n",
        "    Inglês = nota_ing,\n",
        "    História = nota_his,\n",
        "    Física = nota_fis,\n",
        "    Química = nota_qui,\n",
        ")\n",
        "\n",
        "percentuais_acerto"
      ]
    },
    {
      "cell_type": "code",
      "execution_count": 34,
      "metadata": {
        "id": "JbTwCyNHC8-1"
      },
      "outputs": [
        {
          "data": {
            "text/html": [
              "<div>\n",
              "<style scoped>\n",
              "    .dataframe tbody tr th:only-of-type {\n",
              "        vertical-align: middle;\n",
              "    }\n",
              "\n",
              "    .dataframe tbody tr th {\n",
              "        vertical-align: top;\n",
              "    }\n",
              "\n",
              "    .dataframe thead th {\n",
              "        text-align: right;\n",
              "    }\n",
              "</style>\n",
              "<table border=\"1\" class=\"dataframe\">\n",
              "  <thead>\n",
              "    <tr style=\"text-align: right;\">\n",
              "      <th></th>\n",
              "      <th>Qt_acertos</th>\n",
              "    </tr>\n",
              "  </thead>\n",
              "  <tbody>\n",
              "    <tr>\n",
              "      <th>0</th>\n",
              "      <td>35</td>\n",
              "    </tr>\n",
              "    <tr>\n",
              "      <th>1</th>\n",
              "      <td>48</td>\n",
              "    </tr>\n",
              "    <tr>\n",
              "      <th>2</th>\n",
              "      <td>50</td>\n",
              "    </tr>\n",
              "    <tr>\n",
              "      <th>3</th>\n",
              "      <td>32</td>\n",
              "    </tr>\n",
              "    <tr>\n",
              "      <th>4</th>\n",
              "      <td>30</td>\n",
              "    </tr>\n",
              "    <tr>\n",
              "      <th>...</th>\n",
              "      <td>...</td>\n",
              "    </tr>\n",
              "    <tr>\n",
              "      <th>95</th>\n",
              "      <td>34</td>\n",
              "    </tr>\n",
              "    <tr>\n",
              "      <th>96</th>\n",
              "      <td>27</td>\n",
              "    </tr>\n",
              "    <tr>\n",
              "      <th>97</th>\n",
              "      <td>40</td>\n",
              "    </tr>\n",
              "    <tr>\n",
              "      <th>98</th>\n",
              "      <td>40</td>\n",
              "    </tr>\n",
              "    <tr>\n",
              "      <th>99</th>\n",
              "      <td>42</td>\n",
              "    </tr>\n",
              "  </tbody>\n",
              "</table>\n",
              "<p>100 rows × 1 columns</p>\n",
              "</div>"
            ],
            "text/plain": [
              "    Qt_acertos\n",
              "0           35\n",
              "1           48\n",
              "2           50\n",
              "3           32\n",
              "4           30\n",
              "..         ...\n",
              "95          34\n",
              "96          27\n",
              "97          40\n",
              "98          40\n",
              "99          42\n",
              "\n",
              "[100 rows x 1 columns]"
            ]
          },
          "execution_count": 34,
          "metadata": {},
          "output_type": "execute_result"
        }
      ],
      "source": [
        "# 2) Seu código aqui\n",
        "\n",
        "totais = df_mat + df_por + df_geo + df_ing + df_his + df_fis + df_qui\n",
        "\n",
        "totais\n"
      ]
    },
    {
      "cell_type": "code",
      "execution_count": 35,
      "metadata": {
        "id": "c2L8dJkVC8-3"
      },
      "outputs": [
        {
          "data": {
            "text/html": [
              "<div>\n",
              "<style scoped>\n",
              "    .dataframe tbody tr th:only-of-type {\n",
              "        vertical-align: middle;\n",
              "    }\n",
              "\n",
              "    .dataframe tbody tr th {\n",
              "        vertical-align: top;\n",
              "    }\n",
              "\n",
              "    .dataframe thead th {\n",
              "        text-align: right;\n",
              "    }\n",
              "</style>\n",
              "<table border=\"1\" class=\"dataframe\">\n",
              "  <thead>\n",
              "    <tr style=\"text-align: right;\">\n",
              "      <th></th>\n",
              "      <th>Qt_acertos</th>\n",
              "    </tr>\n",
              "  </thead>\n",
              "  <tbody>\n",
              "    <tr>\n",
              "      <th>0</th>\n",
              "      <td>38.888889</td>\n",
              "    </tr>\n",
              "    <tr>\n",
              "      <th>1</th>\n",
              "      <td>53.333333</td>\n",
              "    </tr>\n",
              "    <tr>\n",
              "      <th>2</th>\n",
              "      <td>55.555556</td>\n",
              "    </tr>\n",
              "    <tr>\n",
              "      <th>3</th>\n",
              "      <td>35.555556</td>\n",
              "    </tr>\n",
              "    <tr>\n",
              "      <th>4</th>\n",
              "      <td>33.333333</td>\n",
              "    </tr>\n",
              "    <tr>\n",
              "      <th>...</th>\n",
              "      <td>...</td>\n",
              "    </tr>\n",
              "    <tr>\n",
              "      <th>95</th>\n",
              "      <td>37.777778</td>\n",
              "    </tr>\n",
              "    <tr>\n",
              "      <th>96</th>\n",
              "      <td>30.000000</td>\n",
              "    </tr>\n",
              "    <tr>\n",
              "      <th>97</th>\n",
              "      <td>44.444444</td>\n",
              "    </tr>\n",
              "    <tr>\n",
              "      <th>98</th>\n",
              "      <td>44.444444</td>\n",
              "    </tr>\n",
              "    <tr>\n",
              "      <th>99</th>\n",
              "      <td>46.666667</td>\n",
              "    </tr>\n",
              "  </tbody>\n",
              "</table>\n",
              "<p>100 rows × 1 columns</p>\n",
              "</div>"
            ],
            "text/plain": [
              "    Qt_acertos\n",
              "0    38.888889\n",
              "1    53.333333\n",
              "2    55.555556\n",
              "3    35.555556\n",
              "4    33.333333\n",
              "..         ...\n",
              "95   37.777778\n",
              "96   30.000000\n",
              "97   44.444444\n",
              "98   44.444444\n",
              "99   46.666667\n",
              "\n",
              "[100 rows x 1 columns]"
            ]
          },
          "execution_count": 35,
          "metadata": {},
          "output_type": "execute_result"
        }
      ],
      "source": [
        "# 3) Seu código aqui\n",
        "\n",
        "percentual_individual = (totais / 90) * 100\n",
        "\n",
        "percentual_individual\n"
      ]
    },
    {
      "cell_type": "code",
      "execution_count": 36,
      "metadata": {
        "id": "PZTZ7DFzC8-3"
      },
      "outputs": [
        {
          "data": {
            "text/html": [
              "<div>\n",
              "<style scoped>\n",
              "    .dataframe tbody tr th:only-of-type {\n",
              "        vertical-align: middle;\n",
              "    }\n",
              "\n",
              "    .dataframe tbody tr th {\n",
              "        vertical-align: top;\n",
              "    }\n",
              "\n",
              "    .dataframe thead th {\n",
              "        text-align: right;\n",
              "    }\n",
              "</style>\n",
              "<table border=\"1\" class=\"dataframe\">\n",
              "  <thead>\n",
              "    <tr style=\"text-align: right;\">\n",
              "      <th></th>\n",
              "      <th>Qt_acertos</th>\n",
              "    </tr>\n",
              "  </thead>\n",
              "  <tbody>\n",
              "    <tr>\n",
              "      <th>78</th>\n",
              "      <td>66</td>\n",
              "    </tr>\n",
              "    <tr>\n",
              "      <th>89</th>\n",
              "      <td>63</td>\n",
              "    </tr>\n",
              "    <tr>\n",
              "      <th>70</th>\n",
              "      <td>62</td>\n",
              "    </tr>\n",
              "    <tr>\n",
              "      <th>8</th>\n",
              "      <td>58</td>\n",
              "    </tr>\n",
              "    <tr>\n",
              "      <th>93</th>\n",
              "      <td>56</td>\n",
              "    </tr>\n",
              "    <tr>\n",
              "      <th>36</th>\n",
              "      <td>56</td>\n",
              "    </tr>\n",
              "    <tr>\n",
              "      <th>81</th>\n",
              "      <td>55</td>\n",
              "    </tr>\n",
              "    <tr>\n",
              "      <th>48</th>\n",
              "      <td>55</td>\n",
              "    </tr>\n",
              "    <tr>\n",
              "      <th>31</th>\n",
              "      <td>54</td>\n",
              "    </tr>\n",
              "    <tr>\n",
              "      <th>71</th>\n",
              "      <td>53</td>\n",
              "    </tr>\n",
              "    <tr>\n",
              "      <th>77</th>\n",
              "      <td>53</td>\n",
              "    </tr>\n",
              "    <tr>\n",
              "      <th>20</th>\n",
              "      <td>53</td>\n",
              "    </tr>\n",
              "    <tr>\n",
              "      <th>37</th>\n",
              "      <td>52</td>\n",
              "    </tr>\n",
              "    <tr>\n",
              "      <th>17</th>\n",
              "      <td>52</td>\n",
              "    </tr>\n",
              "    <tr>\n",
              "      <th>2</th>\n",
              "      <td>50</td>\n",
              "    </tr>\n",
              "    <tr>\n",
              "      <th>72</th>\n",
              "      <td>50</td>\n",
              "    </tr>\n",
              "    <tr>\n",
              "      <th>88</th>\n",
              "      <td>50</td>\n",
              "    </tr>\n",
              "    <tr>\n",
              "      <th>24</th>\n",
              "      <td>50</td>\n",
              "    </tr>\n",
              "    <tr>\n",
              "      <th>27</th>\n",
              "      <td>50</td>\n",
              "    </tr>\n",
              "    <tr>\n",
              "      <th>18</th>\n",
              "      <td>50</td>\n",
              "    </tr>\n",
              "    <tr>\n",
              "      <th>5</th>\n",
              "      <td>50</td>\n",
              "    </tr>\n",
              "    <tr>\n",
              "      <th>7</th>\n",
              "      <td>49</td>\n",
              "    </tr>\n",
              "    <tr>\n",
              "      <th>39</th>\n",
              "      <td>49</td>\n",
              "    </tr>\n",
              "    <tr>\n",
              "      <th>35</th>\n",
              "      <td>48</td>\n",
              "    </tr>\n",
              "    <tr>\n",
              "      <th>1</th>\n",
              "      <td>48</td>\n",
              "    </tr>\n",
              "    <tr>\n",
              "      <th>42</th>\n",
              "      <td>48</td>\n",
              "    </tr>\n",
              "    <tr>\n",
              "      <th>45</th>\n",
              "      <td>48</td>\n",
              "    </tr>\n",
              "    <tr>\n",
              "      <th>60</th>\n",
              "      <td>48</td>\n",
              "    </tr>\n",
              "    <tr>\n",
              "      <th>40</th>\n",
              "      <td>47</td>\n",
              "    </tr>\n",
              "    <tr>\n",
              "      <th>67</th>\n",
              "      <td>46</td>\n",
              "    </tr>\n",
              "    <tr>\n",
              "      <th>62</th>\n",
              "      <td>46</td>\n",
              "    </tr>\n",
              "  </tbody>\n",
              "</table>\n",
              "</div>"
            ],
            "text/plain": [
              "    Qt_acertos\n",
              "78          66\n",
              "89          63\n",
              "70          62\n",
              "8           58\n",
              "93          56\n",
              "36          56\n",
              "81          55\n",
              "48          55\n",
              "31          54\n",
              "71          53\n",
              "77          53\n",
              "20          53\n",
              "37          52\n",
              "17          52\n",
              "2           50\n",
              "72          50\n",
              "88          50\n",
              "24          50\n",
              "27          50\n",
              "18          50\n",
              "5           50\n",
              "7           49\n",
              "39          49\n",
              "35          48\n",
              "1           48\n",
              "42          48\n",
              "45          48\n",
              "60          48\n",
              "40          47\n",
              "67          46\n",
              "62          46"
            ]
          },
          "execution_count": 36,
          "metadata": {},
          "output_type": "execute_result"
        }
      ],
      "source": [
        "# 4) Seu código aqui\n",
        "\n",
        "# aqui levei em consideração a nota sendo o NUMERO DE ACERTOS e não os percentuais, mas em ambos os casos a resolução seria semelhante, o que muda é a interpretação\n",
        "\n",
        "aprovados = totais.loc[totais['Qt_acertos'] > 45]\n",
        "\n",
        "aprovados.sort_values(by = 'Qt_acertos', ascending = False)\n"
      ]
    },
    {
      "cell_type": "markdown",
      "metadata": {
        "id": "Hlfl75XXC8-4"
      },
      "source": [
        "## 2) Vestibular II\n",
        "\n",
        "Ainda sobre o mesmo banco de dados:\n",
        "\n",
        "1. Neste vestibular, quem 'zera' em matemática, física ou química está desqualificado. Monte um novo *DataFrame* com os alunos desqualificados por este critério.\n",
        "2. Quantos são esses alunos?\n",
        "3. Qual a média desses alunos em história e geografia?\n",
        "4. Monte um *DataFrame* com os alunos que passaram para a segunda fase. Repare que estes alunos não podem ter sido desqualificados."
      ]
    },
    {
      "cell_type": "code",
      "execution_count": 37,
      "metadata": {
        "id": "hPaMGXvJC8-4"
      },
      "outputs": [
        {
          "data": {
            "text/plain": [
              "Index([ 3,  6, 10, 12, 14, 20, 25, 26, 27, 33, 35, 49, 56, 65, 66, 72, 73, 74,\n",
              "       84, 89, 92, 94, 98],\n",
              "      dtype='int64')"
            ]
          },
          "execution_count": 37,
          "metadata": {},
          "output_type": "execute_result"
        }
      ],
      "source": [
        "# 1) seu código aqui\n",
        "\n",
        "desqualificados_notas = (\n",
        "                df_mat.loc[df_mat['Qt_acertos'] == 0]\n",
        "                + df_fis.loc[df_fis['Qt_acertos'] == 0]\n",
        "                + df_qui.loc[df_qui['Qt_acertos'] == 0]\n",
        "                )\n",
        "\n",
        "desqualificados = desqualificados_notas.index # extrai o 'ID' dos alunos desqualificados\n",
        "desqualificados"
      ]
    },
    {
      "cell_type": "code",
      "execution_count": 38,
      "metadata": {},
      "outputs": [
        {
          "data": {
            "text/plain": [
              "23"
            ]
          },
          "execution_count": 38,
          "metadata": {},
          "output_type": "execute_result"
        }
      ],
      "source": [
        "# 2) seu código aqui\n",
        "\n",
        "len(desqualificados)"
      ]
    },
    {
      "cell_type": "code",
      "execution_count": 39,
      "metadata": {},
      "outputs": [
        {
          "data": {
            "text/html": [
              "<div>\n",
              "<style scoped>\n",
              "    .dataframe tbody tr th:only-of-type {\n",
              "        vertical-align: middle;\n",
              "    }\n",
              "\n",
              "    .dataframe tbody tr th {\n",
              "        vertical-align: top;\n",
              "    }\n",
              "\n",
              "    .dataframe thead th {\n",
              "        text-align: right;\n",
              "    }\n",
              "</style>\n",
              "<table border=\"1\" class=\"dataframe\">\n",
              "  <thead>\n",
              "    <tr style=\"text-align: right;\">\n",
              "      <th></th>\n",
              "      <th>História</th>\n",
              "      <th>Geografia</th>\n",
              "    </tr>\n",
              "  </thead>\n",
              "  <tbody>\n",
              "    <tr>\n",
              "      <th>3</th>\n",
              "      <td>0</td>\n",
              "      <td>3</td>\n",
              "    </tr>\n",
              "    <tr>\n",
              "      <th>6</th>\n",
              "      <td>5</td>\n",
              "      <td>7</td>\n",
              "    </tr>\n",
              "    <tr>\n",
              "      <th>10</th>\n",
              "      <td>1</td>\n",
              "      <td>3</td>\n",
              "    </tr>\n",
              "    <tr>\n",
              "      <th>12</th>\n",
              "      <td>1</td>\n",
              "      <td>3</td>\n",
              "    </tr>\n",
              "    <tr>\n",
              "      <th>14</th>\n",
              "      <td>1</td>\n",
              "      <td>1</td>\n",
              "    </tr>\n",
              "    <tr>\n",
              "      <th>20</th>\n",
              "      <td>6</td>\n",
              "      <td>6</td>\n",
              "    </tr>\n",
              "    <tr>\n",
              "      <th>25</th>\n",
              "      <td>0</td>\n",
              "      <td>7</td>\n",
              "    </tr>\n",
              "    <tr>\n",
              "      <th>26</th>\n",
              "      <td>7</td>\n",
              "      <td>6</td>\n",
              "    </tr>\n",
              "    <tr>\n",
              "      <th>27</th>\n",
              "      <td>7</td>\n",
              "      <td>1</td>\n",
              "    </tr>\n",
              "    <tr>\n",
              "      <th>33</th>\n",
              "      <td>6</td>\n",
              "      <td>0</td>\n",
              "    </tr>\n",
              "    <tr>\n",
              "      <th>35</th>\n",
              "      <td>3</td>\n",
              "      <td>6</td>\n",
              "    </tr>\n",
              "    <tr>\n",
              "      <th>49</th>\n",
              "      <td>1</td>\n",
              "      <td>1</td>\n",
              "    </tr>\n",
              "    <tr>\n",
              "      <th>56</th>\n",
              "      <td>6</td>\n",
              "      <td>7</td>\n",
              "    </tr>\n",
              "    <tr>\n",
              "      <th>65</th>\n",
              "      <td>3</td>\n",
              "      <td>2</td>\n",
              "    </tr>\n",
              "    <tr>\n",
              "      <th>66</th>\n",
              "      <td>3</td>\n",
              "      <td>3</td>\n",
              "    </tr>\n",
              "    <tr>\n",
              "      <th>72</th>\n",
              "      <td>7</td>\n",
              "      <td>3</td>\n",
              "    </tr>\n",
              "    <tr>\n",
              "      <th>73</th>\n",
              "      <td>3</td>\n",
              "      <td>2</td>\n",
              "    </tr>\n",
              "    <tr>\n",
              "      <th>74</th>\n",
              "      <td>5</td>\n",
              "      <td>0</td>\n",
              "    </tr>\n",
              "    <tr>\n",
              "      <th>84</th>\n",
              "      <td>1</td>\n",
              "      <td>0</td>\n",
              "    </tr>\n",
              "    <tr>\n",
              "      <th>89</th>\n",
              "      <td>6</td>\n",
              "      <td>7</td>\n",
              "    </tr>\n",
              "    <tr>\n",
              "      <th>92</th>\n",
              "      <td>1</td>\n",
              "      <td>1</td>\n",
              "    </tr>\n",
              "    <tr>\n",
              "      <th>94</th>\n",
              "      <td>1</td>\n",
              "      <td>2</td>\n",
              "    </tr>\n",
              "    <tr>\n",
              "      <th>98</th>\n",
              "      <td>5</td>\n",
              "      <td>3</td>\n",
              "    </tr>\n",
              "  </tbody>\n",
              "</table>\n",
              "</div>"
            ],
            "text/plain": [
              "    História  Geografia\n",
              "3          0          3\n",
              "6          5          7\n",
              "10         1          3\n",
              "12         1          3\n",
              "14         1          1\n",
              "20         6          6\n",
              "25         0          7\n",
              "26         7          6\n",
              "27         7          1\n",
              "33         6          0\n",
              "35         3          6\n",
              "49         1          1\n",
              "56         6          7\n",
              "65         3          2\n",
              "66         3          3\n",
              "72         7          3\n",
              "73         3          2\n",
              "74         5          0\n",
              "84         1          0\n",
              "89         6          7\n",
              "92         1          1\n",
              "94         1          2\n",
              "98         5          3"
            ]
          },
          "execution_count": 39,
          "metadata": {},
          "output_type": "execute_result"
        }
      ],
      "source": [
        "# 3) seu código aqui\n",
        "\n",
        "desqualificados_his = df_his.loc[desqualificados]\n",
        "desqualificados_geo = df_geo.loc[desqualificados]\n",
        "\n",
        "\n",
        "desqualificados_his_geo = pd.concat([desqualificados_his, desqualificados_geo], axis = 1)\n",
        "desqualificados_his_geo.columns = ['História', 'Geografia']\n",
        "\n",
        "desqualificados_his_geo"
      ]
    },
    {
      "cell_type": "markdown",
      "metadata": {
        "id": "EGBUWpAHC8-5"
      },
      "source": [
        "## 3) Vacinações no Acre\n",
        "Vamos trabalhar agora com a base de vacinações no Acre. Para facilitar a sua vida, copiamos o link do arquivo na célula abaixo.\n",
        "\n",
        "1. Quantas vacinas estão registradas nessa base?  \n",
        "2. Quantos pacientes foram vacinados? (considere um paciente para cada valor único de ```paciente_id```)  \n",
        "3. Quantos pacientes únicos tomaram a primeira dose? OBS: Há um caractere especial neste campo. Receba os valores do campo com o método ```.unique()```.   \n",
        "4. Quantos pacientes com menos de 18 anos foram vacinados?  \n",
        "5. Quantos estabelecimentos aplicaram vacina no Acre?\n",
        "\n",
        "\n",
        "**OBS:** O portal do DATASUS pode apresentar instabilidades, retornando um erro na segunda célula abaixo. Por este motivo está disponível uma base estática, que se for baixada para o seu *working directory* pode ser lida com este comando: ```df = pd.read_csv('registros de vacinacao covid ACRE.csv', sep=';')```.\n",
        "\n",
        "**OBS2:** Para saber qual é o seu working directory, rode no jupyter: ```!pwd```."
      ]
    },
    {
      "cell_type": "code",
      "execution_count": 40,
      "metadata": {
        "id": "ET4r139hC8-5"
      },
      "outputs": [],
      "source": [
        "import requests\n",
        "\n",
        "arquivo = 'https://s3.sa-east-1.amazonaws.com/ckan.saude.gov.br/SIPNI/COVID/uf/uf%3DAC/part-00000-9c0dbbb1-0917-4f1f-b685-ea505a7e515f.c000.csv'"
      ]
    },
    {
      "cell_type": "code",
      "execution_count": 41,
      "metadata": {
        "id": "SC9YMWLSC8-6"
      },
      "outputs": [],
      "source": [
        "# o arquivo deve ter seu endereço atualizado diariamente pra que esse notebook funcione.\n",
        "# isso poderia ser evitado obtendo o arquivo .csv, porém ele contém mais de 100MB,\n",
        "# o que impede seu commit no github gratuitamente\n",
        "\n",
        "df = pd.read_csv(arquivo, sep = ';')\n",
        "\n"
      ]
    },
    {
      "cell_type": "code",
      "execution_count": 42,
      "metadata": {},
      "outputs": [
        {
          "data": {
            "text/plain": [
              "Index(['document_id', 'paciente_id', 'paciente_idade',\n",
              "       'paciente_dataNascimento', 'paciente_enumSexoBiologico',\n",
              "       'paciente_racaCor_codigo', 'paciente_racaCor_valor',\n",
              "       'paciente_endereco_coIbgeMunicipio', 'paciente_endereco_coPais',\n",
              "       'paciente_endereco_nmMunicipio', 'paciente_endereco_nmPais',\n",
              "       'paciente_endereco_uf', 'paciente_endereco_cep',\n",
              "       'paciente_nacionalidade_enumNacionalidade', 'estabelecimento_valor',\n",
              "       'estabelecimento_razaoSocial', 'estalecimento_noFantasia',\n",
              "       'estabelecimento_municipio_codigo', 'estabelecimento_municipio_nome',\n",
              "       'estabelecimento_uf', 'vacina_grupoAtendimento_codigo',\n",
              "       'vacina_grupoAtendimento_nome', 'vacina_categoria_codigo',\n",
              "       'vacina_categoria_nome', 'vacina_lote', 'vacina_fabricante_nome',\n",
              "       'vacina_fabricante_referencia', 'vacina_dataAplicacao',\n",
              "       'vacina_descricao_dose', 'vacina_codigo', 'vacina_nome',\n",
              "       'sistema_origem'],\n",
              "      dtype='object')"
            ]
          },
          "execution_count": 42,
          "metadata": {},
          "output_type": "execute_result"
        }
      ],
      "source": [
        "df.columns"
      ]
    },
    {
      "cell_type": "code",
      "execution_count": 43,
      "metadata": {
        "id": "PMztY1RlC8-7"
      },
      "outputs": [
        {
          "name": "stdout",
          "output_type": "stream",
          "text": [
            "Número de vacinas registradas na base é: 387278\n"
          ]
        }
      ],
      "source": [
        "# 1)\n",
        "\n",
        "num_vacinas_AC = df.shape[0]\n",
        "\n",
        "print(f'Número de vacinas registradas na base é: {num_vacinas_AC}')"
      ]
    },
    {
      "cell_type": "code",
      "execution_count": 44,
      "metadata": {
        "id": "V_wr--3JC8-7"
      },
      "outputs": [
        {
          "name": "stdout",
          "output_type": "stream",
          "text": [
            "O número de pessoas que receberam a vacina é: 316598\n"
          ]
        }
      ],
      "source": [
        "# 2)\n",
        "\n",
        "# contagem = df['paciente_id'].value_counts() # para contar e ver na prática as duplicatas (pacientes que tomaram mais de 1 dose)\n",
        "\n",
        "n_unicos = df['paciente_id'].nunique()\n",
        "\n",
        "print(f'O número de pessoas que receberam a vacina é: {n_unicos}')"
      ]
    },
    {
      "cell_type": "code",
      "execution_count": 45,
      "metadata": {
        "id": "SPHgIxtcC8-7"
      },
      "outputs": [
        {
          "name": "stdout",
          "output_type": "stream",
          "text": [
            "O número de 1ªs doses foi de 143577, considerando somente vacinas com mais de 1 dose.\n"
          ]
        }
      ],
      "source": [
        "# 3)\n",
        "descricao_dose = df['vacina_descricao_dose'].value_counts()\n",
        "\n",
        "dose_1 = int(\n",
        "    descricao_dose.iloc[0])\n",
        "\n",
        "print(f'O número de 1ªs doses foi de {dose_1}, considerando somente vacinas com mais de 1 dose.')"
      ]
    },
    {
      "cell_type": "code",
      "execution_count": 63,
      "metadata": {
        "id": "S6ab9ExEC8-7"
      },
      "outputs": [
        {
          "name": "stdout",
          "output_type": "stream",
          "text": [
            "O número menores de 18 anos foi de 77399.\n"
          ]
        }
      ],
      "source": [
        "# 4)\n",
        "\n",
        "lista_menores_de_idade = df[df['paciente_idade'] < 18]\n",
        "cont_menores_de_idade = lista_menores_de_idade['paciente_idade'].value_counts()\n",
        "\n",
        "soma_menores_de_idade = cont_menores_de_idade.sum()\n",
        "\n",
        "print(f'O número menores de 18 anos foi de {soma_menores_de_idade}.')"
      ]
    },
    {
      "cell_type": "code",
      "execution_count": 68,
      "metadata": {
        "id": "PVrY_-qlC8-8"
      },
      "outputs": [
        {
          "name": "stdout",
          "output_type": "stream",
          "text": [
            "O número de estabelecimentos que aplicaram a vacina foi: 62.\n"
          ]
        }
      ],
      "source": [
        "# 5)\n",
        "\n",
        "estabelecimentos = df['estabelecimento_razaoSocial']\n",
        "estabelecimentos_unicos = estabelecimentos.nunique()\n",
        "\n",
        "print(f'O número de estabelecimentos que aplicaram a vacina no Acre foi: {estabelecimentos_unicos}.')"
      ]
    },
    {
      "cell_type": "markdown",
      "metadata": {
        "id": "LH1LSYvGC8-8"
      },
      "source": [
        "## 4) Vacinação II\n",
        "Gere um *DataFrame* que contenha somente os estabelecimentos que aplicaram vcinas a menores de 18 anos. Nesse *DataFrame* devem conter somente os dados dos estabelecimentos, mais uma coluna sendo a quantidade de vacinas que o estabelecimento aplicou a menores de 18 anos.  \n",
        "  \n",
        "1. crie uma cópia do *DataFrame* original, contendo somente os registros de vacinas realizadas a menores de 18 anos.  \n",
        "2. crie uma lista das colunas desse *DataFrame* com o atributo de *DataFrame* **.columns()**  \n",
        "3. Nesse *DataFrame* faça uma contagem do campo ```vacina_categoria_nome```.\n",
        "3. a partir da lista de colunas, escolha somente aquelas que são referentes ao estabelecimento, faça uma lista com esses valores.  \n",
        "4. usando o método *.loc*, selecione somente essas variáveis  \n",
        "5. Aplique o método **.drop_duplicates** e crie uma lista com uma linha para cada estabelecimento, com os dados do estabelecimento  "
      ]
    },
    {
      "cell_type": "code",
      "execution_count": null,
      "metadata": {
        "id": "3ojs12vUC8-8"
      },
      "outputs": [],
      "source": [
        "# 1)\n"
      ]
    },
    {
      "cell_type": "code",
      "execution_count": null,
      "metadata": {
        "id": "sLyevPRBC8-8"
      },
      "outputs": [],
      "source": [
        "# 2)\n"
      ]
    },
    {
      "cell_type": "code",
      "execution_count": null,
      "metadata": {
        "id": "lZAW-Dp8C8-8"
      },
      "outputs": [],
      "source": [
        "# 3)\n"
      ]
    },
    {
      "cell_type": "code",
      "execution_count": null,
      "metadata": {
        "id": "xxYsxrxAC8-8"
      },
      "outputs": [],
      "source": [
        "# 4)\n"
      ]
    },
    {
      "cell_type": "code",
      "execution_count": null,
      "metadata": {
        "id": "vaX2x_0rC8-8"
      },
      "outputs": [],
      "source": [
        "# 5)\n"
      ]
    }
  ],
  "metadata": {
    "colab": {
      "provenance": []
    },
    "kernelspec": {
      "display_name": "Python 3",
      "language": "python",
      "name": "python3"
    },
    "language_info": {
      "codemirror_mode": {
        "name": "ipython",
        "version": 3
      },
      "file_extension": ".py",
      "mimetype": "text/x-python",
      "name": "python",
      "nbconvert_exporter": "python",
      "pygments_lexer": "ipython3",
      "version": "3.11.9"
    },
    "toc": {
      "base_numbering": 1,
      "nav_menu": {},
      "number_sections": false,
      "sideBar": true,
      "skip_h1_title": true,
      "title_cell": "Índice",
      "title_sidebar": "Conteúdo",
      "toc_cell": false,
      "toc_position": {},
      "toc_section_display": true,
      "toc_window_display": false
    },
    "varInspector": {
      "cols": {
        "lenName": 16,
        "lenType": 16,
        "lenVar": 40
      },
      "kernels_config": {
        "python": {
          "delete_cmd_postfix": "",
          "delete_cmd_prefix": "del ",
          "library": "var_list.py",
          "varRefreshCmd": "print(var_dic_list())"
        },
        "r": {
          "delete_cmd_postfix": ") ",
          "delete_cmd_prefix": "rm(",
          "library": "var_list.r",
          "varRefreshCmd": "cat(var_dic_list()) "
        }
      },
      "types_to_exclude": [
        "module",
        "function",
        "builtin_function_or_method",
        "instance",
        "_Feature"
      ],
      "window_display": false
    }
  },
  "nbformat": 4,
  "nbformat_minor": 0
}
